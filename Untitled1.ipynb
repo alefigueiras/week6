{
 "cells": [
  {
   "cell_type": "code",
   "execution_count": 8,
   "metadata": {
    "collapsed": false
   },
   "outputs": [
    {
     "ename": "ImportError",
     "evalue": "No module named datareader",
     "output_type": "error",
     "traceback": [
      "\u001b[1;31m---------------------------------------------------------------------------\u001b[0m",
      "\u001b[1;31mImportError\u001b[0m                               Traceback (most recent call last)",
      "\u001b[1;32m<ipython-input-8-73f01ca367ee>\u001b[0m in \u001b[0;36m<module>\u001b[1;34m()\u001b[0m\n\u001b[0;32m      4\u001b[0m \u001b[1;32mimport\u001b[0m \u001b[0mdatetime\u001b[0m\u001b[1;33m\u001b[0m\u001b[0m\n\u001b[0;32m      5\u001b[0m \u001b[1;32mfrom\u001b[0m \u001b[0mbokeh\u001b[0m\u001b[1;33m.\u001b[0m\u001b[0mcharts\u001b[0m \u001b[1;32mimport\u001b[0m \u001b[0mBar\u001b[0m\u001b[1;33m,\u001b[0m \u001b[0moutput_file\u001b[0m\u001b[1;33m,\u001b[0m \u001b[0mshow\u001b[0m\u001b[1;33m,\u001b[0m \u001b[0mTimeSeries\u001b[0m\u001b[1;33m,\u001b[0m \u001b[0mScatter\u001b[0m\u001b[1;33m\u001b[0m\u001b[0m\n\u001b[1;32m----> 6\u001b[1;33m \u001b[1;32mfrom\u001b[0m \u001b[0mpandas\u001b[0m\u001b[1;33m.\u001b[0m\u001b[0mdatareader\u001b[0m \u001b[1;32mimport\u001b[0m \u001b[0mdata\u001b[0m\u001b[1;33m,\u001b[0m \u001b[0mwb\u001b[0m\u001b[1;33m\u001b[0m\u001b[0m\n\u001b[0m",
      "\u001b[1;31mImportError\u001b[0m: No module named datareader"
     ]
    }
   ],
   "source": [
    "import wbdata\n",
    "import pandas\n",
    "import requests\n",
    "import datetime\n",
    "from bokeh.charts import Bar, output_file, show, TimeSeries, Scatter\n",
    "from pandas.datareader import data, wb"
   ]
  },
  {
   "cell_type": "code",
   "execution_count": 9,
   "metadata": {
    "collapsed": false
   },
   "outputs": [
    {
     "name": "stdout",
     "output_type": "stream",
     "text": [
      "DB_ft_prohib_perm      \tFixed-term contracts prohibited for permanent tasks?\n",
      "IC.EC.COST             \tCost to enforce a contract (% of claim) \n",
      "IC.EC.PROC             \tProcedures required to enforce a contract (number)\n",
      "IC.EC.TIME             \tTime required to enforce a contract (days)\n",
      "IC.FRM.CORR.CORR2      \tPercent of firms expected to give gifts to secure government contract\n",
      "IC.FRM.CORR.CORR3      \tValue of gift expected to secure a government contract (% of contract value)\n",
      "IC.GCON.GIFT.ZS        \tExpected to give gifts to secure a Government contract (% of firms)\n",
      "IC.LGL.CONT.XQ         \tEnforcing contracts (rank)\n",
      "IC.LGL.COST.DEBT.ZS    \tEnforcing contracts, cost (% of claim)\n",
      "IC.LGL.DURS            \tTime required to enforce a contract (days)\n",
      "IC.VALG.GIFT.ZS        \tValue of gift expected to secure Government Contract (% of Contract)\n",
      "PER.ALL.CONTRACT.PCTTOT\tWorld Bank: Share of total education expenditures for contract teachers (%)                                                                                                                                                                                           \n",
      "PER.ALL.CONTRACT.SAL   \tWorld Bank: Contract Teachers, Annual Salary (in USD or local currency)                                                                                                                                                                                               \n",
      "PER.ALL.CONTRACT.TOT   \tWorld Bank: Contract Teachers, total employed                                                                                                                                                                                                                         \n",
      "PER.ALL.CONTRACT.USD   \tWorld Bank: Contract Teachers, Total Cost in USD or local currency                                                                                                                                                                                                    \n",
      "PER.PRM.CONTRACT       \tWorld Bank: Contract/Part-Time primary teachers (% of total teachers)                                                                                                                                                                                                 \n",
      "PER.PRM.CONTRACT.SAL   \tWorld Bank: Contract Teachers, Annual Salary (in USD or local currency), primary                                                                                                                                                                                      \n",
      "PER.PRM.PTR.CONTRACT   \tWorld Bank: Pupil/Teacher Ratio for primary schools with Contract Teachers                                                                                                                                                                                            \n",
      "PER.SEC.CONTRACT       \tWorld Bank: Contract/Part-Time secondary teachers (% of total teachers)                                                                                                                                                                                               \n",
      "PER.SEC.CONTRACT.SAL   \tWorld Bank: Contract Teachers, Annual Salary (in USD or local currency), secondary                                                                                                                                                                                    \n",
      "PER.SEC.PTR.CONTRACT   \tWorld Bank: Pupil/Teacher Ratio for secondary schools with Contract Teachers                                                                                                                                                                                          \n"
     ]
    }
   ],
   "source": [
    "wbdata.search_indicators('contract')"
   ]
  },
  {
   "cell_type": "code",
   "execution_count": 10,
   "metadata": {
    "collapsed": false
   },
   "outputs": [
    {
     "name": "stdout",
     "output_type": "stream",
     "text": [
      "CC.PER.RNK      \tControl of Corruption: Percentile Rank\n",
      "CC.PER.RNK.LOWER\tControl of Corruption: Percentile Rank, Lower Bound of 90% Confidence Interval\n",
      "CC.PER.RNK.UPPER\tControl of Corruption: Percentile Rank, Upper Bound of 90% Confidence Interval\n",
      "GCI.RANK.XQ     \tGlobal Competitive Index (GCI) rank\n",
      "GE.PER.RNK      \tGovernment Effectiveness: Percentile Rank\n",
      "GE.PER.RNK.LOWER\tGovernment Effectiveness: Percentile Rank, Lower Bound of 90% Confidence Interval\n",
      "GE.PER.RNK.UPPER\tGovernment Effectiveness: Percentile Rank, Upper Bound of 90% Confidence Interval\n",
      "GV.TI.RANK.IDX  \tCorruption Perceptions Index (rank)\n",
      "IC.BUS.XQ       \tProtecting investors (rank)\n",
      "IC.CLS.XQ       \tClosing a business (rank)\n",
      "IC.CNS.CORR.ZS  \tCorruption (% of managers surveyed ranking this as a major constraint)\n",
      "IC.CNS.CRIM.ZS  \tCrime (% of managers surveyed ranking this as a major constraint)\n",
      "IC.CNS.ELEC.ZS  \tElectricity (% of managers surveyed ranking this as a major constraint)\n",
      "IC.CNS.FINA.ZS  \tFinance (% of managers surveyed ranking this as a major constraint)\n",
      "IC.CNS.INFM.ZS  \tPractices Informal Sector (% of managers surveyed ranking this as a major constraint)\n",
      "IC.CNS.LAND.ZS  \tAccess to Land (% of managers surveyed ranking this as a major constraint)\n",
      "IC.CNS.LBRG.ZS  \tLabor regulations (% of managers surveyed ranking this as a major constraint)\n",
      "IC.CNS.LBSK.ZS  \tLabor skills (% of managers surveyed ranking this as a major constraint)\n",
      "IC.CNS.LEGL.ZS  \tCourts (% of managers surveyed ranking this as a major constraint)\n",
      "IC.CNS.LIC.ZS   \tLicenses & Permits (% of managers surveyed ranking this as a major constraint)\n",
      "IC.CNS.POLC.ZS  \tPolicy uncertainty (% of managers surveyed ranking this as a major constraint)\n",
      "IC.CNS.TAXAD.ZS \tTax administration (% of managers surveyed ranking this as a major constraint)\n",
      "IC.CNS.TAXR.ZS  \tTax rates (% of managers surveyed ranking this as a major constraint)\n",
      "IC.CNS.TRAD.ZS  \tCustoms & trade regulations (% of managers surveyed ranking this as a major constraint)\n",
      "IC.CNS.TRSP.ZS  \tTransportation (% of managers surveyed ranking this as a major constraint)\n",
      "IC.CRD.XQ       \tGetting credit (rank)\n",
      "IC.ELEC.XQ      \tGetting electricity (rank)\n",
      "IC.FRM.XQ       \tDealing with construction permits (rank)\n",
      "IC.LGL.CONT.XQ  \tEnforcing contracts (rank)\n",
      "IC.PRP.XQ       \tRegistering property (rank)\n",
      "IC.REG.XQ       \tStarting a business (rank)\n",
      "IC.TAX.XQ       \tPaying taxes (rank)\n",
      "IC.TRD.XQ       \tTrading across borders (rank)\n",
      "PV.PER.RNK      \tPolitical Stability and Absence of Violence/Terrorism: Percentile Rank\n",
      "PV.PER.RNK.LOWER\tPolitical Stability and Absence of Violence/Terrorism: Percentile Rank, Lower Bound of 90% Confidence Interval\n",
      "PV.PER.RNK.UPPER\tPolitical Stability and Absence of Violence/Terrorism: Percentile Rank, Upper Bound of 90% Confidence Interval\n",
      "RL.PER.RNK      \tRule of Law: Percentile Rank\n",
      "RL.PER.RNK.LOWER\tRule of Law: Percentile Rank, Lower Bound of 90% Confidence Interval\n",
      "RL.PER.RNK.UPPER\tRule of Law: Percentile Rank, Upper Bound of 90% Confidence Interval\n",
      "RQ.PER.RNK      \tRegulatory Quality: Percentile Rank\n",
      "RQ.PER.RNK.LOWER\tRegulatory Quality: Percentile Rank, Lower Bound of 90% Confidence Interval\n",
      "RQ.PER.RNK.UPPER\tRegulatory Quality: Percentile Rank, Upper Bound of 90% Confidence Interval\n",
      "VA.PER.RNK      \tVoice and Accountability: Percentile Rank\n",
      "VA.PER.RNK.LOWER\tVoice and Accountability: Percentile Rank, Lower Bound of 90% Confidence Interval\n",
      "VA.PER.RNK.UPPER\tVoice and Accountability: Percentile Rank, Upper Bound of 90% Confidence Interval\n"
     ]
    }
   ],
   "source": [
    "wbdata.search_indicators('rank')"
   ]
  },
  {
   "cell_type": "code",
   "execution_count": 11,
   "metadata": {
    "collapsed": true
   },
   "outputs": [],
   "source": [
    "def get_indicator():\n",
    "    url = 'http://api.worldbank.org/topics?'\n",
    "    response = requests.get(url)\n",
    "    return response"
   ]
  },
  {
   "cell_type": "code",
   "execution_count": 12,
   "metadata": {
    "collapsed": false
   },
   "outputs": [
    {
     "data": {
      "text/plain": [
       "<Response [200]>"
      ]
     },
     "execution_count": 12,
     "metadata": {},
     "output_type": "execute_result"
    }
   ],
   "source": [
    "topics = get_indicator()\n",
    "topics"
   ]
  },
  {
   "cell_type": "code",
   "execution_count": 13,
   "metadata": {
    "collapsed": false
   },
   "outputs": [
    {
     "name": "stdout",
     "output_type": "stream",
     "text": [
      "IC.PI.CIR\tExtent of conflict of interest regulation index (0-10)\n"
     ]
    }
   ],
   "source": [
    "wbdata.search_indicators('extent of conflict')"
   ]
  },
  {
   "cell_type": "code",
   "execution_count": 15,
   "metadata": {
    "collapsed": false
   },
   "outputs": [
    {
     "name": "stdout",
     "output_type": "stream",
     "text": [
      "IC.PI.SG            \tExtent of shareholder governance index (0-10)\n",
      "IC.PI.SOGS          \tStrength of governance structure index (0-10.5)\n",
      "IQ.CPA.PROP.XQ      \tCPIA property rights and rule-based governance rating (1=low to 6=high)\n",
      "SABER.SCH.ATNM.GOAL3\tSABER: (School Autonomy Accountability) Policy Goal 3: Role of the school council on school governance\n"
     ]
    }
   ],
   "source": [
    "wbdata.search_indicators('governance')"
   ]
  },
  {
   "cell_type": "code",
   "execution_count": null,
   "metadata": {
    "collapsed": true
   },
   "outputs": [],
   "source": []
  }
 ],
 "metadata": {
  "kernelspec": {
   "display_name": "Python 2",
   "language": "python",
   "name": "python2"
  },
  "language_info": {
   "codemirror_mode": {
    "name": "ipython",
    "version": 2
   },
   "file_extension": ".py",
   "mimetype": "text/x-python",
   "name": "python",
   "nbconvert_exporter": "python",
   "pygments_lexer": "ipython2",
   "version": "2.7.11"
  }
 },
 "nbformat": 4,
 "nbformat_minor": 0
}
