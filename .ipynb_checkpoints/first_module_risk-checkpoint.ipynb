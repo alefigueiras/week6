{
 "cells": [
  {
   "cell_type": "code",
   "execution_count": 12,
   "metadata": {
    "collapsed": false
   },
   "outputs": [
    {
     "data": {
      "text/html": [
       "\n",
       "    <div class=\"bk-banner\">\n",
       "        <a href=\"http://bokeh.pydata.org\" target=\"_blank\" class=\"bk-logo bk-logo-small bk-logo-notebook\"></a>\n",
       "        <span id=\"8f3f6bc2-44ad-499f-9ad9-8008729d8b18\">Loading BokehJS ...</span>\n",
       "    </div>"
      ]
     },
     "metadata": {},
     "output_type": "display_data"
    },
    {
     "data": {
      "application/javascript": [
       "\n",
       "(function(global) {\n",
       "  function now() {\n",
       "    return new Date();\n",
       "  }\n",
       "\n",
       "  if (typeof (window._bokeh_onload_callbacks) === \"undefined\") {\n",
       "    window._bokeh_onload_callbacks = [];\n",
       "  }\n",
       "\n",
       "  function run_callbacks() {\n",
       "    window._bokeh_onload_callbacks.forEach(function(callback) { callback() });\n",
       "    delete window._bokeh_onload_callbacks\n",
       "    console.info(\"Bokeh: all callbacks have finished\");\n",
       "  }\n",
       "\n",
       "  function load_libs(js_urls, callback) {\n",
       "    window._bokeh_onload_callbacks.push(callback);\n",
       "    if (window._bokeh_is_loading > 0) {\n",
       "      console.log(\"Bokeh: BokehJS is being loaded, scheduling callback at\", now());\n",
       "      return null;\n",
       "    }\n",
       "    if (js_urls == null || js_urls.length === 0) {\n",
       "      run_callbacks();\n",
       "      return null;\n",
       "    }\n",
       "    console.log(\"Bokeh: BokehJS not loaded, scheduling load and callback at\", now());\n",
       "    window._bokeh_is_loading = js_urls.length;\n",
       "    for (var i = 0; i < js_urls.length; i++) {\n",
       "      var url = js_urls[i];\n",
       "      var s = document.createElement('script');\n",
       "      s.src = url;\n",
       "      s.async = false;\n",
       "      s.onreadystatechange = s.onload = function() {\n",
       "        window._bokeh_is_loading--;\n",
       "        if (window._bokeh_is_loading === 0) {\n",
       "          console.log(\"Bokeh: all BokehJS libraries loaded\");\n",
       "          run_callbacks()\n",
       "        }\n",
       "      };\n",
       "      s.onerror = function() {\n",
       "        console.warn(\"failed to load library \" + url);\n",
       "      };\n",
       "      console.log(\"Bokeh: injecting script tag for BokehJS library: \", url);\n",
       "      document.getElementsByTagName(\"head\")[0].appendChild(s);\n",
       "    }\n",
       "  };\n",
       "\n",
       "  var js_urls = ['https://cdn.pydata.org/bokeh/release/bokeh-0.11.1.min.js', 'https://cdn.pydata.org/bokeh/release/bokeh-widgets-0.11.1.min.js', 'https://cdn.pydata.org/bokeh/release/bokeh-compiler-0.11.1.min.js'];\n",
       "\n",
       "  var inline_js = [\n",
       "    function(Bokeh) {\n",
       "      Bokeh.set_log_level(\"info\");\n",
       "    },\n",
       "    \n",
       "    function(Bokeh) {\n",
       "      Bokeh.$(\"#8f3f6bc2-44ad-499f-9ad9-8008729d8b18\").text(\"BokehJS successfully loaded\");\n",
       "    },\n",
       "    function(Bokeh) {\n",
       "      console.log(\"Bokeh: injecting CSS: https://cdn.pydata.org/bokeh/release/bokeh-0.11.1.min.css\");\n",
       "      Bokeh.embed.inject_css(\"https://cdn.pydata.org/bokeh/release/bokeh-0.11.1.min.css\");\n",
       "      console.log(\"Bokeh: injecting CSS: https://cdn.pydata.org/bokeh/release/bokeh-widgets-0.11.1.min.css\");\n",
       "      Bokeh.embed.inject_css(\"https://cdn.pydata.org/bokeh/release/bokeh-widgets-0.11.1.min.css\");\n",
       "    }\n",
       "  ];\n",
       "\n",
       "  function run_inline_js() {\n",
       "    for (var i = 0; i < inline_js.length; i++) {\n",
       "      inline_js[i](window.Bokeh);\n",
       "    }\n",
       "  }\n",
       "\n",
       "  if (window._bokeh_is_loading === 0) {\n",
       "    console.log(\"Bokeh: BokehJS loaded, going straight to plotting\");\n",
       "    run_inline_js();\n",
       "  } else {\n",
       "    load_libs(js_urls, function() {\n",
       "      console.log(\"Bokeh: BokehJS plotting callback run at\", now());\n",
       "      run_inline_js();\n",
       "    });\n",
       "  }\n",
       "}(this));"
      ]
     },
     "metadata": {},
     "output_type": "display_data"
    }
   ],
   "source": [
    "import pandas\n",
    "import requests\n",
    "import datetime\n",
    "from bokeh.charts import Bar, output_file, show, TimeSeries, Scatter\n",
    "\n",
    "output_notebook()"
   ]
  },
  {
   "cell_type": "code",
   "execution_count": 13,
   "metadata": {
    "collapsed": false
   },
   "outputs": [],
   "source": [
    "def get_indicator(countries, indicator):\n",
    "    url = 'http://api.worldbank.org/countries/%s/indicators/%s?per_page=300&date=2014:2014&format=json' % (';'.join(countries), ';'.join(indicator))\n",
    "    assert isinstance(countries, list)\n",
    "    assert isinstance(indicator, list)\n",
    "    response = requests.get(url)\n",
    "    json = response.json()\n",
    "    dataset = json[1]\n",
    "    data = {\n",
    "        'Date': [x['date'] for x in dataset],\n",
    "        'Country': [x['country']['value'] for x in dataset],\n",
    "        'Indicator': [x['indicator']['value'] for x in dataset],\n",
    "        'Value': [x['value'] for x in dataset],\n",
    "    }\n",
    "    df = pandas.DataFrame(data)\n",
    "    df['Value'] = pandas.to_numeric(df['Value'], errors='coerce')\n",
    "    df['Date'] = pandas.to_datetime(df['Date'])\n",
    "    df = df.round(2)\n",
    "    return df"
   ]
  },
  {
   "cell_type": "code",
   "execution_count": 14,
   "metadata": {
    "collapsed": false
   },
   "outputs": [
    {
     "data": {
      "text/html": [
       "<div>\n",
       "<table border=\"1\" class=\"dataframe\">\n",
       "  <thead>\n",
       "    <tr style=\"text-align: right;\">\n",
       "      <th></th>\n",
       "      <th>Country</th>\n",
       "      <th>Date</th>\n",
       "      <th>Indicator</th>\n",
       "      <th>Value</th>\n",
       "    </tr>\n",
       "  </thead>\n",
       "  <tbody>\n",
       "    <tr>\n",
       "      <th>0</th>\n",
       "      <td>Brazil</td>\n",
       "      <td>2014-01-01</td>\n",
       "      <td>Control of Corruption: Estimate</td>\n",
       "      <td>-0.38</td>\n",
       "    </tr>\n",
       "    <tr>\n",
       "      <th>1</th>\n",
       "      <td>United Kingdom</td>\n",
       "      <td>2014-01-01</td>\n",
       "      <td>Control of Corruption: Estimate</td>\n",
       "      <td>1.73</td>\n",
       "    </tr>\n",
       "    <tr>\n",
       "      <th>2</th>\n",
       "      <td>United States</td>\n",
       "      <td>2014-01-01</td>\n",
       "      <td>Control of Corruption: Estimate</td>\n",
       "      <td>1.32</td>\n",
       "    </tr>\n",
       "    <tr>\n",
       "      <th>3</th>\n",
       "      <td>Venezuela, RB</td>\n",
       "      <td>2014-01-01</td>\n",
       "      <td>Control of Corruption: Estimate</td>\n",
       "      <td>-1.38</td>\n",
       "    </tr>\n",
       "  </tbody>\n",
       "</table>\n",
       "</div>"
      ],
      "text/plain": [
       "          Country       Date                        Indicator  Value\n",
       "0          Brazil 2014-01-01  Control of Corruption: Estimate  -0.38\n",
       "1  United Kingdom 2014-01-01  Control of Corruption: Estimate   1.73\n",
       "2   United States 2014-01-01  Control of Corruption: Estimate   1.32\n",
       "3   Venezuela, RB 2014-01-01  Control of Corruption: Estimate  -1.38"
      ]
     },
     "execution_count": 14,
     "metadata": {},
     "output_type": "execute_result"
    }
   ],
   "source": [
    "countries = ['BRA', 'USA', 'VEN', 'GBR']\n",
    "indicator = ['CC.EST']\n",
    "df = get_indicator(countries,indicator)\n",
    "df"
   ]
  },
  {
   "cell_type": "code",
   "execution_count": 15,
   "metadata": {
    "collapsed": true
   },
   "outputs": [],
   "source": [
    "def plot_ind(performance):\n",
    "    p = Bar(performance, label='Country', values='Value', color='Country', xlabel=\"Country\", \n",
    "            ylabel=performance['Indicator'][0], title='Performance of %s' % performance['Indicator'][0], legend='top_right')\n",
    "    return p"
   ]
  },
  {
   "cell_type": "code",
   "execution_count": 16,
   "metadata": {
    "collapsed": false
   },
   "outputs": [
    {
     "data": {
      "text/html": [
       "\n",
       "\n",
       "    <div class=\"plotdiv\" id=\"f3af6169-ac09-4ead-a812-55657ffc502c\"></div>\n",
       "<script type=\"text/javascript\">\n",
       "  \n",
       "  (function(global) {\n",
       "    function now() {\n",
       "      return new Date();\n",
       "    }\n",
       "  \n",
       "    if (typeof (window._bokeh_onload_callbacks) === \"undefined\") {\n",
       "      window._bokeh_onload_callbacks = [];\n",
       "    }\n",
       "  \n",
       "    function run_callbacks() {\n",
       "      window._bokeh_onload_callbacks.forEach(function(callback) { callback() });\n",
       "      delete window._bokeh_onload_callbacks\n",
       "      console.info(\"Bokeh: all callbacks have finished\");\n",
       "    }\n",
       "  \n",
       "    function load_libs(js_urls, callback) {\n",
       "      window._bokeh_onload_callbacks.push(callback);\n",
       "      if (window._bokeh_is_loading > 0) {\n",
       "        console.log(\"Bokeh: BokehJS is being loaded, scheduling callback at\", now());\n",
       "        return null;\n",
       "      }\n",
       "      if (js_urls == null || js_urls.length === 0) {\n",
       "        run_callbacks();\n",
       "        return null;\n",
       "      }\n",
       "      console.log(\"Bokeh: BokehJS not loaded, scheduling load and callback at\", now());\n",
       "      window._bokeh_is_loading = js_urls.length;\n",
       "      for (var i = 0; i < js_urls.length; i++) {\n",
       "        var url = js_urls[i];\n",
       "        var s = document.createElement('script');\n",
       "        s.src = url;\n",
       "        s.async = false;\n",
       "        s.onreadystatechange = s.onload = function() {\n",
       "          window._bokeh_is_loading--;\n",
       "          if (window._bokeh_is_loading === 0) {\n",
       "            console.log(\"Bokeh: all BokehJS libraries loaded\");\n",
       "            run_callbacks()\n",
       "          }\n",
       "        };\n",
       "        s.onerror = function() {\n",
       "          console.warn(\"failed to load library \" + url);\n",
       "        };\n",
       "        console.log(\"Bokeh: injecting script tag for BokehJS library: \", url);\n",
       "        document.getElementsByTagName(\"head\")[0].appendChild(s);\n",
       "      }\n",
       "    };var element = document.getElementById(\"f3af6169-ac09-4ead-a812-55657ffc502c\");\n",
       "    if (element == null) {\n",
       "      console.log(\"Bokeh: ERROR: autoload.js configured with elementid 'f3af6169-ac09-4ead-a812-55657ffc502c' but no matching script tag was found. \")\n",
       "      return false;\n",
       "    }\n",
       "  \n",
       "    var js_urls = [];\n",
       "  \n",
       "    var inline_js = [\n",
       "      function(Bokeh) {\n",
       "        Bokeh.$(function() {\n",
       "            var docs_json = {\"b94c71ce-f343-4c51-b031-5ed4ca6900de\":{\"roots\":{\"references\":[{\"attributes\":{\"fill_alpha\":{\"field\":\"fill_alpha\"},\"fill_color\":{\"field\":\"color\"},\"height\":{\"field\":\"height\",\"units\":\"data\"},\"line_color\":{\"field\":\"line_color\"},\"width\":{\"field\":\"width\",\"units\":\"data\"},\"x\":{\"field\":\"x\"},\"y\":{\"field\":\"y\"}},\"id\":\"5cb6e07f-1187-4cb8-b039-eecbb4d9b096\",\"type\":\"Rect\"},{\"attributes\":{\"overlay\":{\"id\":\"29a5a7b6-deec-4599-ad38-1fdf0ed637fe\",\"type\":\"BoxAnnotation\"},\"plot\":{\"id\":\"73c4e2ab-6ce0-4d5e-b09b-15d723080169\",\"subtype\":\"Chart\",\"type\":\"Plot\"}},\"id\":\"74e959c5-ae84-41ca-8583-bdb99b7cb3a4\",\"type\":\"BoxZoomTool\"},{\"attributes\":{\"callback\":null,\"column_names\":[\"line_color\",\"line_alpha\",\"color\",\"fill_alpha\",\"height\",\"width\",\"y\",\"x\"],\"data\":{\"Country\":[\"United States\"],\"chart_index\":[{\"Country\":\"United States\"}],\"color\":[\"#407ee7\"],\"fill_alpha\":[0.8],\"height\":[1.32],\"line_alpha\":[1.0],\"line_color\":[\"white\"],\"width\":[0.8],\"x\":[\"United States\"],\"y\":[0.66]}},\"id\":\"b56a272e-6007-4c8e-b31a-9b7d4f43bf74\",\"type\":\"ColumnDataSource\"},{\"attributes\":{\"plot\":{\"id\":\"73c4e2ab-6ce0-4d5e-b09b-15d723080169\",\"subtype\":\"Chart\",\"type\":\"Plot\"}},\"id\":\"837c1aa2-620b-439a-b846-714118959298\",\"type\":\"ResizeTool\"},{\"attributes\":{\"data_source\":{\"id\":\"43c87405-30e3-4714-8f2b-4258e0c58995\",\"type\":\"ColumnDataSource\"},\"glyph\":{\"id\":\"0f9fe075-a932-45fe-86a9-980fed66328d\",\"type\":\"Rect\"},\"hover_glyph\":null,\"nonselection_glyph\":null,\"selection_glyph\":null},\"id\":\"056f171d-7886-4c0b-828a-183bae969ee1\",\"type\":\"GlyphRenderer\"},{\"attributes\":{\"axis_label\":\"Country\",\"formatter\":{\"id\":\"3505b6e4-586e-4e74-a3b1-9fe5614486ab\",\"type\":\"CategoricalTickFormatter\"},\"major_label_orientation\":0.7853981633974483,\"plot\":{\"id\":\"73c4e2ab-6ce0-4d5e-b09b-15d723080169\",\"subtype\":\"Chart\",\"type\":\"Plot\"},\"ticker\":{\"id\":\"5887bb22-dbc1-4e1a-9035-ab39440c6d10\",\"type\":\"CategoricalTicker\"}},\"id\":\"4ae0bd5e-7e31-4e6b-83c3-535c8d451c60\",\"type\":\"CategoricalAxis\"},{\"attributes\":{\"data_source\":{\"id\":\"1a6e14fd-9e05-4539-b42e-0f9a1e28f689\",\"type\":\"ColumnDataSource\"},\"glyph\":{\"id\":\"0491ffce-8d89-4dc3-ba0a-1095059f9d6a\",\"type\":\"Rect\"},\"hover_glyph\":null,\"nonselection_glyph\":null,\"selection_glyph\":null},\"id\":\"e6278677-a889-4a52-b9ce-a1b2aa6c79f9\",\"type\":\"GlyphRenderer\"},{\"attributes\":{\"plot\":{\"id\":\"73c4e2ab-6ce0-4d5e-b09b-15d723080169\",\"subtype\":\"Chart\",\"type\":\"Plot\"}},\"id\":\"fb6ca4fe-09ce-4e06-8794-865f4ec666ee\",\"type\":\"PanTool\"},{\"attributes\":{\"fill_alpha\":{\"field\":\"fill_alpha\"},\"fill_color\":{\"field\":\"color\"},\"height\":{\"field\":\"height\",\"units\":\"data\"},\"line_color\":{\"field\":\"line_color\"},\"width\":{\"field\":\"width\",\"units\":\"data\"},\"x\":{\"field\":\"x\"},\"y\":{\"field\":\"y\"}},\"id\":\"46d8dcc7-fe6d-4050-81c1-bcfc754f8565\",\"type\":\"Rect\"},{\"attributes\":{\"plot\":{\"id\":\"7fcbb605-cad5-4d35-be26-31fdd7485dbe\",\"subtype\":\"Chart\",\"type\":\"Plot\"}},\"id\":\"16ae8127-c782-4fe2-b870-10942238f9c2\",\"type\":\"PreviewSaveTool\"},{\"attributes\":{\"data_source\":{\"id\":\"e5bc98e5-0949-4b6d-81d3-ed99e25d29ff\",\"type\":\"ColumnDataSource\"},\"glyph\":{\"id\":\"3eda0f8b-54b7-4baa-b18a-868222d7b7bd\",\"type\":\"Rect\"},\"hover_glyph\":null,\"nonselection_glyph\":null,\"selection_glyph\":null},\"id\":\"7f15c874-13b7-4900-9b0d-41ce571b36b9\",\"type\":\"GlyphRenderer\"},{\"attributes\":{\"plot\":{\"id\":\"73c4e2ab-6ce0-4d5e-b09b-15d723080169\",\"subtype\":\"Chart\",\"type\":\"Plot\"}},\"id\":\"a1907d57-ae10-433f-b64a-a5d4d1510bd6\",\"type\":\"HelpTool\"},{\"attributes\":{\"bottom_units\":\"screen\",\"fill_alpha\":{\"value\":0.5},\"fill_color\":{\"value\":\"lightgrey\"},\"left_units\":\"screen\",\"level\":\"overlay\",\"line_alpha\":{\"value\":1.0},\"line_color\":{\"value\":\"black\"},\"line_dash\":[4,4],\"line_width\":{\"value\":2},\"plot\":null,\"render_mode\":\"css\",\"right_units\":\"screen\",\"top_units\":\"screen\"},\"id\":\"29a5a7b6-deec-4599-ad38-1fdf0ed637fe\",\"type\":\"BoxAnnotation\"},{\"attributes\":{},\"id\":\"e5fb85e0-7f05-454e-8461-e3b45652027a\",\"type\":\"BasicTicker\"},{\"attributes\":{\"fill_alpha\":{\"field\":\"fill_alpha\"},\"fill_color\":{\"field\":\"color\"},\"height\":{\"field\":\"height\",\"units\":\"data\"},\"line_color\":{\"field\":\"line_color\"},\"width\":{\"field\":\"width\",\"units\":\"data\"},\"x\":{\"field\":\"x\"},\"y\":{\"field\":\"y\"}},\"id\":\"0f9fe075-a932-45fe-86a9-980fed66328d\",\"type\":\"Rect\"},{\"attributes\":{\"plot\":{\"id\":\"7fcbb605-cad5-4d35-be26-31fdd7485dbe\",\"subtype\":\"Chart\",\"type\":\"Plot\"}},\"id\":\"8588e3e2-a9d0-4613-8310-5fbcd6a332e1\",\"type\":\"WheelZoomTool\"},{\"attributes\":{\"callback\":null,\"factors\":[\"Brazil\",\"United Kingdom\",\"United States\",\"Venezuela, RB\"]},\"id\":\"37b41c24-6963-4ad9-9ae5-662d6e20a721\",\"type\":\"FactorRange\"},{\"attributes\":{\"plot\":{\"id\":\"73c4e2ab-6ce0-4d5e-b09b-15d723080169\",\"subtype\":\"Chart\",\"type\":\"Plot\"}},\"id\":\"50021727-0337-4acb-bb85-dbed22a1a1c3\",\"type\":\"ResetTool\"},{\"attributes\":{\"callback\":null,\"column_names\":[\"line_color\",\"line_alpha\",\"color\",\"fill_alpha\",\"height\",\"width\",\"y\",\"x\"],\"data\":{\"Country\":[\"United Kingdom\"],\"chart_index\":[{\"Country\":\"United Kingdom\"}],\"color\":[\"#5ab738\"],\"fill_alpha\":[0.8],\"height\":[1.73],\"line_alpha\":[1.0],\"line_color\":[\"white\"],\"width\":[0.8],\"x\":[\"United Kingdom\"],\"y\":[0.865]}},\"id\":\"1a6e14fd-9e05-4539-b42e-0f9a1e28f689\",\"type\":\"ColumnDataSource\"},{\"attributes\":{\"callback\":null,\"end\":1.7475,\"start\":-1.3975},\"id\":\"2a94684d-fd9e-421d-af79-190dedcba5e4\",\"type\":\"Range1d\"},{\"attributes\":{},\"id\":\"3505b6e4-586e-4e74-a3b1-9fe5614486ab\",\"type\":\"CategoricalTickFormatter\"},{\"attributes\":{\"plot\":{\"id\":\"73c4e2ab-6ce0-4d5e-b09b-15d723080169\",\"subtype\":\"Chart\",\"type\":\"Plot\"}},\"id\":\"7b86f6aa-cae9-4e9f-9fa4-a4d8c9c49e30\",\"type\":\"PreviewSaveTool\"},{\"attributes\":{},\"id\":\"e09722dd-28be-427e-8bf2-3876b49a7b31\",\"type\":\"ToolEvents\"},{\"attributes\":{\"callback\":null,\"column_names\":[\"line_color\",\"line_alpha\",\"color\",\"fill_alpha\",\"height\",\"width\",\"y\",\"x\"],\"data\":{\"Country\":[\"Venezuela, RB\"],\"chart_index\":[{\"Country\":\"Venezuela, RB\"}],\"color\":[\"#df5320\"],\"fill_alpha\":[0.8],\"height\":[-1.38],\"line_alpha\":[1.0],\"line_color\":[\"white\"],\"width\":[0.8],\"x\":[\"Venezuela, RB\"],\"y\":[-0.69]}},\"id\":\"e5bc98e5-0949-4b6d-81d3-ed99e25d29ff\",\"type\":\"ColumnDataSource\"},{\"attributes\":{},\"id\":\"9e26ed66-fa73-4615-b543-3339166de448\",\"type\":\"CategoricalTickFormatter\"},{\"attributes\":{\"data_source\":{\"id\":\"7aa26c38-4f1a-4c98-98b8-6c96e1554499\",\"type\":\"ColumnDataSource\"},\"glyph\":{\"id\":\"e68965fa-528c-49ef-8249-1a569e74bdfb\",\"type\":\"Rect\"},\"hover_glyph\":null,\"nonselection_glyph\":null,\"selection_glyph\":null},\"id\":\"a05e2825-d140-41e3-bbd3-469b835eebf1\",\"type\":\"GlyphRenderer\"},{\"attributes\":{\"dimension\":1,\"plot\":{\"id\":\"73c4e2ab-6ce0-4d5e-b09b-15d723080169\",\"subtype\":\"Chart\",\"type\":\"Plot\"},\"ticker\":{\"id\":\"4f26abb1-ce22-4bc2-9ea7-35831d4f0510\",\"type\":\"BasicTicker\"}},\"id\":\"92c269c5-2e5a-4be9-9437-c26623646b4c\",\"type\":\"Grid\"},{\"attributes\":{\"plot\":{\"id\":\"7fcbb605-cad5-4d35-be26-31fdd7485dbe\",\"subtype\":\"Chart\",\"type\":\"Plot\"}},\"id\":\"73f2476b-ad4b-4fd3-b19e-7645bb2dbe00\",\"type\":\"PanTool\"},{\"attributes\":{\"bottom_units\":\"screen\",\"fill_alpha\":{\"value\":0.5},\"fill_color\":{\"value\":\"lightgrey\"},\"left_units\":\"screen\",\"level\":\"overlay\",\"line_alpha\":{\"value\":1.0},\"line_color\":{\"value\":\"black\"},\"line_dash\":[4,4],\"line_width\":{\"value\":2},\"plot\":null,\"render_mode\":\"css\",\"right_units\":\"screen\",\"top_units\":\"screen\"},\"id\":\"4f161eb0-3178-40d0-9aeb-3b0816189fcd\",\"type\":\"BoxAnnotation\"},{\"attributes\":{\"plot\":{\"id\":\"73c4e2ab-6ce0-4d5e-b09b-15d723080169\",\"subtype\":\"Chart\",\"type\":\"Plot\"}},\"id\":\"2fd2402e-a7e5-4f28-9cea-b29a06c5b6cd\",\"type\":\"WheelZoomTool\"},{\"attributes\":{},\"id\":\"4f26abb1-ce22-4bc2-9ea7-35831d4f0510\",\"type\":\"BasicTicker\"},{\"attributes\":{\"overlay\":{\"id\":\"4f161eb0-3178-40d0-9aeb-3b0816189fcd\",\"type\":\"BoxAnnotation\"},\"plot\":{\"id\":\"7fcbb605-cad5-4d35-be26-31fdd7485dbe\",\"subtype\":\"Chart\",\"type\":\"Plot\"}},\"id\":\"4bf7fcfe-4c75-4b11-8c69-340b5689db6b\",\"type\":\"BoxZoomTool\"},{\"attributes\":{\"dimension\":1,\"plot\":{\"id\":\"7fcbb605-cad5-4d35-be26-31fdd7485dbe\",\"subtype\":\"Chart\",\"type\":\"Plot\"},\"ticker\":{\"id\":\"e5fb85e0-7f05-454e-8461-e3b45652027a\",\"type\":\"BasicTicker\"}},\"id\":\"9904770a-41b3-4f09-bf1f-000b8a897453\",\"type\":\"Grid\"},{\"attributes\":{\"plot\":{\"id\":\"7fcbb605-cad5-4d35-be26-31fdd7485dbe\",\"subtype\":\"Chart\",\"type\":\"Plot\"}},\"id\":\"41e7dd78-d51f-49fe-bce9-6f7ef22666d4\",\"type\":\"HelpTool\"},{\"attributes\":{\"legends\":[[\"Brazil\",[{\"id\":\"f8ef7eab-2ddf-40a2-b118-8f4b88e6702e\",\"type\":\"GlyphRenderer\"}]],[\"United Kingdom\",[{\"id\":\"e6278677-a889-4a52-b9ce-a1b2aa6c79f9\",\"type\":\"GlyphRenderer\"}]],[\"United States\",[{\"id\":\"dc679c1d-0c09-4067-bf9a-d419769cd2ce\",\"type\":\"GlyphRenderer\"}]],[\"Venezuela, RB\",[{\"id\":\"7f15c874-13b7-4900-9b0d-41ce571b36b9\",\"type\":\"GlyphRenderer\"}]]],\"plot\":{\"id\":\"73c4e2ab-6ce0-4d5e-b09b-15d723080169\",\"subtype\":\"Chart\",\"type\":\"Plot\"}},\"id\":\"9d7f3c00-f0dd-404e-be06-95ed8ec4a309\",\"type\":\"Legend\"},{\"attributes\":{\"callback\":null,\"factors\":[\"Brazil\",\"United Kingdom\",\"United States\",\"Venezuela, RB\"]},\"id\":\"633ace79-ad10-4f29-885b-77f95459a279\",\"type\":\"FactorRange\"},{\"attributes\":{\"axis_label\":\"Control of Corruption: Estimate\",\"formatter\":{\"id\":\"279ba61b-9739-43ac-9f1c-000be66e5c3b\",\"type\":\"BasicTickFormatter\"},\"plot\":{\"id\":\"7fcbb605-cad5-4d35-be26-31fdd7485dbe\",\"subtype\":\"Chart\",\"type\":\"Plot\"},\"ticker\":{\"id\":\"e5fb85e0-7f05-454e-8461-e3b45652027a\",\"type\":\"BasicTicker\"}},\"id\":\"0166bec5-5ef3-4549-b1ce-62e7254f33d3\",\"type\":\"LinearAxis\"},{\"attributes\":{\"axis_label\":\"Country\",\"formatter\":{\"id\":\"9e26ed66-fa73-4615-b543-3339166de448\",\"type\":\"CategoricalTickFormatter\"},\"major_label_orientation\":0.7853981633974483,\"plot\":{\"id\":\"7fcbb605-cad5-4d35-be26-31fdd7485dbe\",\"subtype\":\"Chart\",\"type\":\"Plot\"},\"ticker\":{\"id\":\"6d7b2c47-3d84-46eb-9669-aff1008c95d5\",\"type\":\"CategoricalTicker\"}},\"id\":\"55363f3d-d674-44cb-942f-2d8d3e844b3d\",\"type\":\"CategoricalAxis\"},{\"attributes\":{\"axis_label\":\"Control of Corruption: Estimate\",\"formatter\":{\"id\":\"6395a460-ceda-4b7b-abf0-51e6b7d18ea2\",\"type\":\"BasicTickFormatter\"},\"plot\":{\"id\":\"73c4e2ab-6ce0-4d5e-b09b-15d723080169\",\"subtype\":\"Chart\",\"type\":\"Plot\"},\"ticker\":{\"id\":\"4f26abb1-ce22-4bc2-9ea7-35831d4f0510\",\"type\":\"BasicTicker\"}},\"id\":\"d205e067-e13c-4522-bbef-e4ba4ebd9380\",\"type\":\"LinearAxis\"},{\"attributes\":{\"callback\":null,\"column_names\":[\"line_color\",\"line_alpha\",\"color\",\"fill_alpha\",\"height\",\"width\",\"y\",\"x\"],\"data\":{\"Country\":[\"Venezuela, RB\"],\"chart_index\":[{\"Country\":\"Venezuela, RB\"}],\"color\":[\"#df5320\"],\"fill_alpha\":[0.8],\"height\":[-1.38],\"line_alpha\":[1.0],\"line_color\":[\"white\"],\"width\":[0.8],\"x\":[\"Venezuela, RB\"],\"y\":[-0.69]}},\"id\":\"43c87405-30e3-4714-8f2b-4258e0c58995\",\"type\":\"ColumnDataSource\"},{\"attributes\":{\"data_source\":{\"id\":\"b76c6630-9fb8-48ba-b895-fa18971dcbf1\",\"type\":\"ColumnDataSource\"},\"glyph\":{\"id\":\"a71221cc-7f9d-46ab-899c-7ec7dbc9ebd5\",\"type\":\"Rect\"},\"hover_glyph\":null,\"nonselection_glyph\":null,\"selection_glyph\":null},\"id\":\"f8ef7eab-2ddf-40a2-b118-8f4b88e6702e\",\"type\":\"GlyphRenderer\"},{\"attributes\":{\"fill_alpha\":{\"field\":\"fill_alpha\"},\"fill_color\":{\"field\":\"color\"},\"height\":{\"field\":\"height\",\"units\":\"data\"},\"line_color\":{\"field\":\"line_color\"},\"width\":{\"field\":\"width\",\"units\":\"data\"},\"x\":{\"field\":\"x\"},\"y\":{\"field\":\"y\"}},\"id\":\"b01a52fd-5c57-40ac-9910-e03f35a78178\",\"type\":\"Rect\"},{\"attributes\":{\"fill_alpha\":{\"field\":\"fill_alpha\"},\"fill_color\":{\"field\":\"color\"},\"height\":{\"field\":\"height\",\"units\":\"data\"},\"line_color\":{\"field\":\"line_color\"},\"width\":{\"field\":\"width\",\"units\":\"data\"},\"x\":{\"field\":\"x\"},\"y\":{\"field\":\"y\"}},\"id\":\"0491ffce-8d89-4dc3-ba0a-1095059f9d6a\",\"type\":\"Rect\"},{\"attributes\":{\"fill_alpha\":{\"field\":\"fill_alpha\"},\"fill_color\":{\"field\":\"color\"},\"height\":{\"field\":\"height\",\"units\":\"data\"},\"line_color\":{\"field\":\"line_color\"},\"width\":{\"field\":\"width\",\"units\":\"data\"},\"x\":{\"field\":\"x\"},\"y\":{\"field\":\"y\"}},\"id\":\"3eda0f8b-54b7-4baa-b18a-868222d7b7bd\",\"type\":\"Rect\"},{\"attributes\":{},\"id\":\"5887bb22-dbc1-4e1a-9035-ab39440c6d10\",\"type\":\"CategoricalTicker\"},{\"attributes\":{\"fill_alpha\":{\"field\":\"fill_alpha\"},\"fill_color\":{\"field\":\"color\"},\"height\":{\"field\":\"height\",\"units\":\"data\"},\"line_color\":{\"field\":\"line_color\"},\"width\":{\"field\":\"width\",\"units\":\"data\"},\"x\":{\"field\":\"x\"},\"y\":{\"field\":\"y\"}},\"id\":\"e68965fa-528c-49ef-8249-1a569e74bdfb\",\"type\":\"Rect\"},{\"attributes\":{\"plot\":{\"id\":\"7fcbb605-cad5-4d35-be26-31fdd7485dbe\",\"subtype\":\"Chart\",\"type\":\"Plot\"}},\"id\":\"59a3cb6b-de0e-4269-b356-558afd024312\",\"type\":\"ResizeTool\"},{\"attributes\":{\"below\":[{\"id\":\"55363f3d-d674-44cb-942f-2d8d3e844b3d\",\"type\":\"CategoricalAxis\"}],\"left\":[{\"id\":\"0166bec5-5ef3-4549-b1ce-62e7254f33d3\",\"type\":\"LinearAxis\"}],\"legend\":\"top_right\",\"renderers\":[{\"id\":\"4f161eb0-3178-40d0-9aeb-3b0816189fcd\",\"type\":\"BoxAnnotation\"},{\"id\":\"9f0e0839-ffbf-422a-a63f-e527304ea487\",\"type\":\"GlyphRenderer\"},{\"id\":\"a05e2825-d140-41e3-bbd3-469b835eebf1\",\"type\":\"GlyphRenderer\"},{\"id\":\"b4cbfe45-d831-4942-8237-ad2900f1d8c5\",\"type\":\"GlyphRenderer\"},{\"id\":\"056f171d-7886-4c0b-828a-183bae969ee1\",\"type\":\"GlyphRenderer\"},{\"id\":\"1ffc184f-8a2f-4be8-9bc7-9c0e6ed53ef2\",\"type\":\"Legend\"},{\"id\":\"55363f3d-d674-44cb-942f-2d8d3e844b3d\",\"type\":\"CategoricalAxis\"},{\"id\":\"0166bec5-5ef3-4549-b1ce-62e7254f33d3\",\"type\":\"LinearAxis\"},{\"id\":\"9904770a-41b3-4f09-bf1f-000b8a897453\",\"type\":\"Grid\"}],\"title\":\"Performance of Control of Corruption: Estimate\",\"title_text_font_size\":{\"value\":\"14pt\"},\"tool_events\":{\"id\":\"dca8b6b6-c7c0-4a49-bd71-182f7f8be4cc\",\"type\":\"ToolEvents\"},\"tools\":[{\"id\":\"73f2476b-ad4b-4fd3-b19e-7645bb2dbe00\",\"type\":\"PanTool\"},{\"id\":\"8588e3e2-a9d0-4613-8310-5fbcd6a332e1\",\"type\":\"WheelZoomTool\"},{\"id\":\"4bf7fcfe-4c75-4b11-8c69-340b5689db6b\",\"type\":\"BoxZoomTool\"},{\"id\":\"16ae8127-c782-4fe2-b870-10942238f9c2\",\"type\":\"PreviewSaveTool\"},{\"id\":\"59a3cb6b-de0e-4269-b356-558afd024312\",\"type\":\"ResizeTool\"},{\"id\":\"77eff1b9-a7ea-4e6b-8724-4ccee9dcca36\",\"type\":\"ResetTool\"},{\"id\":\"41e7dd78-d51f-49fe-bce9-6f7ef22666d4\",\"type\":\"HelpTool\"}],\"x_mapper_type\":\"auto\",\"x_range\":{\"id\":\"37b41c24-6963-4ad9-9ae5-662d6e20a721\",\"type\":\"FactorRange\"},\"xgrid\":false,\"xscale\":\"auto\",\"y_mapper_type\":\"auto\",\"y_range\":{\"id\":\"c9946bc8-bf08-4be8-803e-582b049f7523\",\"type\":\"Range1d\"},\"yscale\":\"auto\"},\"id\":\"7fcbb605-cad5-4d35-be26-31fdd7485dbe\",\"subtype\":\"Chart\",\"type\":\"Plot\"},{\"attributes\":{\"plot\":{\"id\":\"7fcbb605-cad5-4d35-be26-31fdd7485dbe\",\"subtype\":\"Chart\",\"type\":\"Plot\"}},\"id\":\"77eff1b9-a7ea-4e6b-8724-4ccee9dcca36\",\"type\":\"ResetTool\"},{\"attributes\":{},\"id\":\"6d7b2c47-3d84-46eb-9669-aff1008c95d5\",\"type\":\"CategoricalTicker\"},{\"attributes\":{},\"id\":\"6395a460-ceda-4b7b-abf0-51e6b7d18ea2\",\"type\":\"BasicTickFormatter\"},{\"attributes\":{\"fill_alpha\":{\"field\":\"fill_alpha\"},\"fill_color\":{\"field\":\"color\"},\"height\":{\"field\":\"height\",\"units\":\"data\"},\"line_color\":{\"field\":\"line_color\"},\"width\":{\"field\":\"width\",\"units\":\"data\"},\"x\":{\"field\":\"x\"},\"y\":{\"field\":\"y\"}},\"id\":\"a71221cc-7f9d-46ab-899c-7ec7dbc9ebd5\",\"type\":\"Rect\"},{\"attributes\":{},\"id\":\"279ba61b-9739-43ac-9f1c-000be66e5c3b\",\"type\":\"BasicTickFormatter\"},{\"attributes\":{\"callback\":null,\"column_names\":[\"line_color\",\"line_alpha\",\"color\",\"fill_alpha\",\"height\",\"width\",\"y\",\"x\"],\"data\":{\"Country\":[\"United States\"],\"chart_index\":[{\"Country\":\"United States\"}],\"color\":[\"#407ee7\"],\"fill_alpha\":[0.8],\"height\":[1.32],\"line_alpha\":[1.0],\"line_color\":[\"white\"],\"width\":[0.8],\"x\":[\"United States\"],\"y\":[0.66]}},\"id\":\"138ad540-413e-4b2d-be6c-ea3c72b49cdd\",\"type\":\"ColumnDataSource\"},{\"attributes\":{\"legends\":[[\"Brazil\",[{\"id\":\"9f0e0839-ffbf-422a-a63f-e527304ea487\",\"type\":\"GlyphRenderer\"}]],[\"United Kingdom\",[{\"id\":\"a05e2825-d140-41e3-bbd3-469b835eebf1\",\"type\":\"GlyphRenderer\"}]],[\"United States\",[{\"id\":\"b4cbfe45-d831-4942-8237-ad2900f1d8c5\",\"type\":\"GlyphRenderer\"}]],[\"Venezuela, RB\",[{\"id\":\"056f171d-7886-4c0b-828a-183bae969ee1\",\"type\":\"GlyphRenderer\"}]]],\"plot\":{\"id\":\"7fcbb605-cad5-4d35-be26-31fdd7485dbe\",\"subtype\":\"Chart\",\"type\":\"Plot\"}},\"id\":\"1ffc184f-8a2f-4be8-9bc7-9c0e6ed53ef2\",\"type\":\"Legend\"},{\"attributes\":{\"callback\":null,\"end\":1.7475,\"start\":-1.3975},\"id\":\"c9946bc8-bf08-4be8-803e-582b049f7523\",\"type\":\"Range1d\"},{\"attributes\":{\"callback\":null,\"column_names\":[\"line_color\",\"line_alpha\",\"color\",\"fill_alpha\",\"height\",\"width\",\"y\",\"x\"],\"data\":{\"Country\":[\"Brazil\"],\"chart_index\":[{\"Country\":\"Brazil\"}],\"color\":[\"#f22c40\"],\"fill_alpha\":[0.8],\"height\":[-0.38],\"line_alpha\":[1.0],\"line_color\":[\"white\"],\"width\":[0.8],\"x\":[\"Brazil\"],\"y\":[-0.19]}},\"id\":\"9b87b243-1119-4d2e-805c-bced901ba830\",\"type\":\"ColumnDataSource\"},{\"attributes\":{\"below\":[{\"id\":\"4ae0bd5e-7e31-4e6b-83c3-535c8d451c60\",\"type\":\"CategoricalAxis\"}],\"left\":[{\"id\":\"d205e067-e13c-4522-bbef-e4ba4ebd9380\",\"type\":\"LinearAxis\"}],\"legend\":\"top_right\",\"renderers\":[{\"id\":\"29a5a7b6-deec-4599-ad38-1fdf0ed637fe\",\"type\":\"BoxAnnotation\"},{\"id\":\"f8ef7eab-2ddf-40a2-b118-8f4b88e6702e\",\"type\":\"GlyphRenderer\"},{\"id\":\"e6278677-a889-4a52-b9ce-a1b2aa6c79f9\",\"type\":\"GlyphRenderer\"},{\"id\":\"dc679c1d-0c09-4067-bf9a-d419769cd2ce\",\"type\":\"GlyphRenderer\"},{\"id\":\"7f15c874-13b7-4900-9b0d-41ce571b36b9\",\"type\":\"GlyphRenderer\"},{\"id\":\"9d7f3c00-f0dd-404e-be06-95ed8ec4a309\",\"type\":\"Legend\"},{\"id\":\"4ae0bd5e-7e31-4e6b-83c3-535c8d451c60\",\"type\":\"CategoricalAxis\"},{\"id\":\"d205e067-e13c-4522-bbef-e4ba4ebd9380\",\"type\":\"LinearAxis\"},{\"id\":\"92c269c5-2e5a-4be9-9437-c26623646b4c\",\"type\":\"Grid\"}],\"title\":\"Performance of Control of Corruption: Estimate\",\"title_text_font_size\":{\"value\":\"14pt\"},\"tool_events\":{\"id\":\"e09722dd-28be-427e-8bf2-3876b49a7b31\",\"type\":\"ToolEvents\"},\"tools\":[{\"id\":\"fb6ca4fe-09ce-4e06-8794-865f4ec666ee\",\"type\":\"PanTool\"},{\"id\":\"2fd2402e-a7e5-4f28-9cea-b29a06c5b6cd\",\"type\":\"WheelZoomTool\"},{\"id\":\"74e959c5-ae84-41ca-8583-bdb99b7cb3a4\",\"type\":\"BoxZoomTool\"},{\"id\":\"7b86f6aa-cae9-4e9f-9fa4-a4d8c9c49e30\",\"type\":\"PreviewSaveTool\"},{\"id\":\"837c1aa2-620b-439a-b846-714118959298\",\"type\":\"ResizeTool\"},{\"id\":\"50021727-0337-4acb-bb85-dbed22a1a1c3\",\"type\":\"ResetTool\"},{\"id\":\"a1907d57-ae10-433f-b64a-a5d4d1510bd6\",\"type\":\"HelpTool\"}],\"x_mapper_type\":\"auto\",\"x_range\":{\"id\":\"633ace79-ad10-4f29-885b-77f95459a279\",\"type\":\"FactorRange\"},\"xgrid\":false,\"xscale\":\"auto\",\"y_mapper_type\":\"auto\",\"y_range\":{\"id\":\"2a94684d-fd9e-421d-af79-190dedcba5e4\",\"type\":\"Range1d\"},\"yscale\":\"auto\"},\"id\":\"73c4e2ab-6ce0-4d5e-b09b-15d723080169\",\"subtype\":\"Chart\",\"type\":\"Plot\"},{\"attributes\":{\"data_source\":{\"id\":\"b56a272e-6007-4c8e-b31a-9b7d4f43bf74\",\"type\":\"ColumnDataSource\"},\"glyph\":{\"id\":\"46d8dcc7-fe6d-4050-81c1-bcfc754f8565\",\"type\":\"Rect\"},\"hover_glyph\":null,\"nonselection_glyph\":null,\"selection_glyph\":null},\"id\":\"b4cbfe45-d831-4942-8237-ad2900f1d8c5\",\"type\":\"GlyphRenderer\"},{\"attributes\":{\"callback\":null,\"column_names\":[\"line_color\",\"line_alpha\",\"color\",\"fill_alpha\",\"height\",\"width\",\"y\",\"x\"],\"data\":{\"Country\":[\"Brazil\"],\"chart_index\":[{\"Country\":\"Brazil\"}],\"color\":[\"#f22c40\"],\"fill_alpha\":[0.8],\"height\":[-0.38],\"line_alpha\":[1.0],\"line_color\":[\"white\"],\"width\":[0.8],\"x\":[\"Brazil\"],\"y\":[-0.19]}},\"id\":\"b76c6630-9fb8-48ba-b895-fa18971dcbf1\",\"type\":\"ColumnDataSource\"},{\"attributes\":{\"callback\":null,\"column_names\":[\"line_color\",\"line_alpha\",\"color\",\"fill_alpha\",\"height\",\"width\",\"y\",\"x\"],\"data\":{\"Country\":[\"United Kingdom\"],\"chart_index\":[{\"Country\":\"United Kingdom\"}],\"color\":[\"#5ab738\"],\"fill_alpha\":[0.8],\"height\":[1.73],\"line_alpha\":[1.0],\"line_color\":[\"white\"],\"width\":[0.8],\"x\":[\"United Kingdom\"],\"y\":[0.865]}},\"id\":\"7aa26c38-4f1a-4c98-98b8-6c96e1554499\",\"type\":\"ColumnDataSource\"},{\"attributes\":{},\"id\":\"dca8b6b6-c7c0-4a49-bd71-182f7f8be4cc\",\"type\":\"ToolEvents\"},{\"attributes\":{\"data_source\":{\"id\":\"9b87b243-1119-4d2e-805c-bced901ba830\",\"type\":\"ColumnDataSource\"},\"glyph\":{\"id\":\"b01a52fd-5c57-40ac-9910-e03f35a78178\",\"type\":\"Rect\"},\"hover_glyph\":null,\"nonselection_glyph\":null,\"selection_glyph\":null},\"id\":\"9f0e0839-ffbf-422a-a63f-e527304ea487\",\"type\":\"GlyphRenderer\"},{\"attributes\":{\"data_source\":{\"id\":\"138ad540-413e-4b2d-be6c-ea3c72b49cdd\",\"type\":\"ColumnDataSource\"},\"glyph\":{\"id\":\"5cb6e07f-1187-4cb8-b039-eecbb4d9b096\",\"type\":\"Rect\"},\"hover_glyph\":null,\"nonselection_glyph\":null,\"selection_glyph\":null},\"id\":\"dc679c1d-0c09-4067-bf9a-d419769cd2ce\",\"type\":\"GlyphRenderer\"}],\"root_ids\":[\"7fcbb605-cad5-4d35-be26-31fdd7485dbe\",\"73c4e2ab-6ce0-4d5e-b09b-15d723080169\"]},\"title\":\"Bokeh Application\",\"version\":\"0.11.1\"}};\n",
       "            var render_items = [{\"docid\":\"b94c71ce-f343-4c51-b031-5ed4ca6900de\",\"elementid\":\"f3af6169-ac09-4ead-a812-55657ffc502c\",\"modelid\":\"73c4e2ab-6ce0-4d5e-b09b-15d723080169\",\"notebook_comms_target\":\"a96397d0-aaaa-4346-8ec8-ccdeeba26b4a\"}];\n",
       "            \n",
       "            Bokeh.embed.embed_items(docs_json, render_items);\n",
       "        });\n",
       "      },\n",
       "      function(Bokeh) {\n",
       "      }\n",
       "    ];\n",
       "  \n",
       "    function run_inline_js() {\n",
       "      for (var i = 0; i < inline_js.length; i++) {\n",
       "        inline_js[i](window.Bokeh);\n",
       "      }\n",
       "    }\n",
       "  \n",
       "    if (window._bokeh_is_loading === 0) {\n",
       "      console.log(\"Bokeh: BokehJS loaded, going straight to plotting\");\n",
       "      run_inline_js();\n",
       "    } else {\n",
       "      load_libs(js_urls, function() {\n",
       "        console.log(\"Bokeh: BokehJS plotting callback run at\", now());\n",
       "        run_inline_js();\n",
       "      });\n",
       "    }\n",
       "  }(this));\n",
       "</script>"
      ]
     },
     "metadata": {},
     "output_type": "display_data"
    },
    {
     "data": {
      "text/html": [
       "<p><code>&lt;Bokeh Notebook handle for <strong>In[16]</strong>&gt;</code></p>"
      ],
      "text/plain": [
       "<bokeh.io._CommsHandle at 0x7f50f3794ad0>"
      ]
     },
     "execution_count": 16,
     "metadata": {},
     "output_type": "execute_result"
    }
   ],
   "source": [
    "plot = plot_ind(df)\n",
    "show(plot)"
   ]
  },
  {
   "cell_type": "code",
   "execution_count": 17,
   "metadata": {
    "collapsed": true
   },
   "outputs": [],
   "source": [
    "def create_dataframes(countries, indicators):\n",
    "    dataframes = [get_indicator(countries, i) for i in indicators]\n",
    "    return pandas.concat(dataframes)"
   ]
  },
  {
   "cell_type": "code",
   "execution_count": 18,
   "metadata": {
    "collapsed": false
   },
   "outputs": [
    {
     "data": {
      "text/html": [
       "<div>\n",
       "<table border=\"1\" class=\"dataframe\">\n",
       "  <thead>\n",
       "    <tr style=\"text-align: right;\">\n",
       "      <th></th>\n",
       "      <th>Country</th>\n",
       "      <th>Date</th>\n",
       "      <th>Indicator</th>\n",
       "      <th>Value</th>\n",
       "    </tr>\n",
       "  </thead>\n",
       "  <tbody>\n",
       "    <tr>\n",
       "      <th>0</th>\n",
       "      <td>Brazil</td>\n",
       "      <td>2014-01-01</td>\n",
       "      <td>Control of Corruption: Estimate</td>\n",
       "      <td>-0.38</td>\n",
       "    </tr>\n",
       "    <tr>\n",
       "      <th>1</th>\n",
       "      <td>United States</td>\n",
       "      <td>2014-01-01</td>\n",
       "      <td>Control of Corruption: Estimate</td>\n",
       "      <td>1.32</td>\n",
       "    </tr>\n",
       "    <tr>\n",
       "      <th>0</th>\n",
       "      <td>Brazil</td>\n",
       "      <td>2014-01-01</td>\n",
       "      <td>Rule of Law: Estimate</td>\n",
       "      <td>-0.08</td>\n",
       "    </tr>\n",
       "    <tr>\n",
       "      <th>1</th>\n",
       "      <td>United States</td>\n",
       "      <td>2014-01-01</td>\n",
       "      <td>Rule of Law: Estimate</td>\n",
       "      <td>1.62</td>\n",
       "    </tr>\n",
       "  </tbody>\n",
       "</table>\n",
       "</div>"
      ],
      "text/plain": [
       "         Country       Date                        Indicator  Value\n",
       "0         Brazil 2014-01-01  Control of Corruption: Estimate  -0.38\n",
       "1  United States 2014-01-01  Control of Corruption: Estimate   1.32\n",
       "0         Brazil 2014-01-01            Rule of Law: Estimate  -0.08\n",
       "1  United States 2014-01-01            Rule of Law: Estimate   1.62"
      ]
     },
     "execution_count": 18,
     "metadata": {},
     "output_type": "execute_result"
    }
   ],
   "source": [
    "countries = ['BRA', 'USA']\n",
    "i1 = ['CC.EST']\n",
    "i2 = ['RL.EST']\n",
    "indicators = [i1, i2]\n",
    "df = create_dataframes(countries,indicators)\n",
    "df"
   ]
  },
  {
   "cell_type": "code",
   "execution_count": 19,
   "metadata": {
    "collapsed": true
   },
   "outputs": [],
   "source": [
    "def get_mean(dataframes):\n",
    "    score = df.groupby('Country')['Value'].mean().reset_index()\n",
    "    return score"
   ]
  },
  {
   "cell_type": "code",
   "execution_count": 20,
   "metadata": {
    "collapsed": false
   },
   "outputs": [
    {
     "data": {
      "text/html": [
       "<div>\n",
       "<table border=\"1\" class=\"dataframe\">\n",
       "  <thead>\n",
       "    <tr style=\"text-align: right;\">\n",
       "      <th></th>\n",
       "      <th>Country</th>\n",
       "      <th>Value</th>\n",
       "    </tr>\n",
       "  </thead>\n",
       "  <tbody>\n",
       "    <tr>\n",
       "      <th>0</th>\n",
       "      <td>Brazil</td>\n",
       "      <td>-0.23</td>\n",
       "    </tr>\n",
       "    <tr>\n",
       "      <th>1</th>\n",
       "      <td>United States</td>\n",
       "      <td>1.47</td>\n",
       "    </tr>\n",
       "  </tbody>\n",
       "</table>\n",
       "</div>"
      ],
      "text/plain": [
       "         Country  Value\n",
       "0         Brazil  -0.23\n",
       "1  United States   1.47"
      ]
     },
     "execution_count": 20,
     "metadata": {},
     "output_type": "execute_result"
    }
   ],
   "source": [
    "score = get_mean(df)\n",
    "score"
   ]
  },
  {
   "cell_type": "code",
   "execution_count": 21,
   "metadata": {
    "collapsed": false
   },
   "outputs": [],
   "source": [
    "def plot_score(score):\n",
    "    p = Bar(score, label='Country', values='Value', xlabel=\"Country\", \n",
    "    color='Country', title='Title', legend='top_right')\n",
    "    return p"
   ]
  },
  {
   "cell_type": "code",
   "execution_count": 22,
   "metadata": {
    "collapsed": false
   },
   "outputs": [
    {
     "data": {
      "text/html": [
       "\n",
       "\n",
       "    <div class=\"plotdiv\" id=\"e8f4096e-5b0a-4dc9-b503-816c1c620797\"></div>\n",
       "<script type=\"text/javascript\">\n",
       "  \n",
       "  (function(global) {\n",
       "    function now() {\n",
       "      return new Date();\n",
       "    }\n",
       "  \n",
       "    if (typeof (window._bokeh_onload_callbacks) === \"undefined\") {\n",
       "      window._bokeh_onload_callbacks = [];\n",
       "    }\n",
       "  \n",
       "    function run_callbacks() {\n",
       "      window._bokeh_onload_callbacks.forEach(function(callback) { callback() });\n",
       "      delete window._bokeh_onload_callbacks\n",
       "      console.info(\"Bokeh: all callbacks have finished\");\n",
       "    }\n",
       "  \n",
       "    function load_libs(js_urls, callback) {\n",
       "      window._bokeh_onload_callbacks.push(callback);\n",
       "      if (window._bokeh_is_loading > 0) {\n",
       "        console.log(\"Bokeh: BokehJS is being loaded, scheduling callback at\", now());\n",
       "        return null;\n",
       "      }\n",
       "      if (js_urls == null || js_urls.length === 0) {\n",
       "        run_callbacks();\n",
       "        return null;\n",
       "      }\n",
       "      console.log(\"Bokeh: BokehJS not loaded, scheduling load and callback at\", now());\n",
       "      window._bokeh_is_loading = js_urls.length;\n",
       "      for (var i = 0; i < js_urls.length; i++) {\n",
       "        var url = js_urls[i];\n",
       "        var s = document.createElement('script');\n",
       "        s.src = url;\n",
       "        s.async = false;\n",
       "        s.onreadystatechange = s.onload = function() {\n",
       "          window._bokeh_is_loading--;\n",
       "          if (window._bokeh_is_loading === 0) {\n",
       "            console.log(\"Bokeh: all BokehJS libraries loaded\");\n",
       "            run_callbacks()\n",
       "          }\n",
       "        };\n",
       "        s.onerror = function() {\n",
       "          console.warn(\"failed to load library \" + url);\n",
       "        };\n",
       "        console.log(\"Bokeh: injecting script tag for BokehJS library: \", url);\n",
       "        document.getElementsByTagName(\"head\")[0].appendChild(s);\n",
       "      }\n",
       "    };var element = document.getElementById(\"e8f4096e-5b0a-4dc9-b503-816c1c620797\");\n",
       "    if (element == null) {\n",
       "      console.log(\"Bokeh: ERROR: autoload.js configured with elementid 'e8f4096e-5b0a-4dc9-b503-816c1c620797' but no matching script tag was found. \")\n",
       "      return false;\n",
       "    }\n",
       "  \n",
       "    var js_urls = [];\n",
       "  \n",
       "    var inline_js = [\n",
       "      function(Bokeh) {\n",
       "        Bokeh.$(function() {\n",
       "            var docs_json = {\"1fbcdb3a-fffa-46f8-8c1b-4447cb030ed2\":{\"roots\":{\"references\":[{\"attributes\":{\"plot\":{\"id\":\"73c4e2ab-6ce0-4d5e-b09b-15d723080169\",\"subtype\":\"Chart\",\"type\":\"Plot\"}},\"id\":\"837c1aa2-620b-439a-b846-714118959298\",\"type\":\"ResizeTool\"},{\"attributes\":{\"fill_alpha\":{\"field\":\"fill_alpha\"},\"fill_color\":{\"field\":\"color\"},\"height\":{\"field\":\"height\",\"units\":\"data\"},\"line_color\":{\"field\":\"line_color\"},\"width\":{\"field\":\"width\",\"units\":\"data\"},\"x\":{\"field\":\"x\"},\"y\":{\"field\":\"y\"}},\"id\":\"b01a52fd-5c57-40ac-9910-e03f35a78178\",\"type\":\"Rect\"},{\"attributes\":{\"data_source\":{\"id\":\"1a6e14fd-9e05-4539-b42e-0f9a1e28f689\",\"type\":\"ColumnDataSource\"},\"glyph\":{\"id\":\"0491ffce-8d89-4dc3-ba0a-1095059f9d6a\",\"type\":\"Rect\"},\"hover_glyph\":null,\"nonselection_glyph\":null,\"selection_glyph\":null},\"id\":\"e6278677-a889-4a52-b9ce-a1b2aa6c79f9\",\"type\":\"GlyphRenderer\"},{\"attributes\":{\"data_source\":{\"id\":\"e5bc98e5-0949-4b6d-81d3-ed99e25d29ff\",\"type\":\"ColumnDataSource\"},\"glyph\":{\"id\":\"3eda0f8b-54b7-4baa-b18a-868222d7b7bd\",\"type\":\"Rect\"},\"hover_glyph\":null,\"nonselection_glyph\":null,\"selection_glyph\":null},\"id\":\"7f15c874-13b7-4900-9b0d-41ce571b36b9\",\"type\":\"GlyphRenderer\"},{\"attributes\":{},\"id\":\"e5fb85e0-7f05-454e-8461-e3b45652027a\",\"type\":\"BasicTicker\"},{\"attributes\":{\"overlay\":{\"id\":\"29a5a7b6-deec-4599-ad38-1fdf0ed637fe\",\"type\":\"BoxAnnotation\"},\"plot\":{\"id\":\"73c4e2ab-6ce0-4d5e-b09b-15d723080169\",\"subtype\":\"Chart\",\"type\":\"Plot\"}},\"id\":\"74e959c5-ae84-41ca-8583-bdb99b7cb3a4\",\"type\":\"BoxZoomTool\"},{\"attributes\":{\"plot\":{\"id\":\"7fcbb605-cad5-4d35-be26-31fdd7485dbe\",\"subtype\":\"Chart\",\"type\":\"Plot\"}},\"id\":\"73f2476b-ad4b-4fd3-b19e-7645bb2dbe00\",\"type\":\"PanTool\"},{\"attributes\":{\"data_source\":{\"id\":\"7aa26c38-4f1a-4c98-98b8-6c96e1554499\",\"type\":\"ColumnDataSource\"},\"glyph\":{\"id\":\"e68965fa-528c-49ef-8249-1a569e74bdfb\",\"type\":\"Rect\"},\"hover_glyph\":null,\"nonselection_glyph\":null,\"selection_glyph\":null},\"id\":\"a05e2825-d140-41e3-bbd3-469b835eebf1\",\"type\":\"GlyphRenderer\"},{\"attributes\":{\"plot\":{\"id\":\"7fcbb605-cad5-4d35-be26-31fdd7485dbe\",\"subtype\":\"Chart\",\"type\":\"Plot\"}},\"id\":\"41e7dd78-d51f-49fe-bce9-6f7ef22666d4\",\"type\":\"HelpTool\"},{\"attributes\":{\"legends\":[[\"Brazil\",[{\"id\":\"464e8f34-21db-495d-94ee-1e5b7d058085\",\"type\":\"GlyphRenderer\"}]],[\"United States\",[{\"id\":\"c04c88c5-b0d5-443a-b4d6-2d7731bfd9b0\",\"type\":\"GlyphRenderer\"}]]],\"plot\":{\"id\":\"b9309703-5f1a-43ea-8d17-397a50c13c79\",\"subtype\":\"Chart\",\"type\":\"Plot\"}},\"id\":\"bbef077a-abe3-40f1-8441-68b21646d69d\",\"type\":\"Legend\"},{\"attributes\":{\"axis_label\":\"Control of Corruption: Estimate\",\"formatter\":{\"id\":\"279ba61b-9739-43ac-9f1c-000be66e5c3b\",\"type\":\"BasicTickFormatter\"},\"plot\":{\"id\":\"7fcbb605-cad5-4d35-be26-31fdd7485dbe\",\"subtype\":\"Chart\",\"type\":\"Plot\"},\"ticker\":{\"id\":\"e5fb85e0-7f05-454e-8461-e3b45652027a\",\"type\":\"BasicTicker\"}},\"id\":\"0166bec5-5ef3-4549-b1ce-62e7254f33d3\",\"type\":\"LinearAxis\"},{\"attributes\":{\"axis_label\":\"Country\",\"formatter\":{\"id\":\"9e26ed66-fa73-4615-b543-3339166de448\",\"type\":\"CategoricalTickFormatter\"},\"major_label_orientation\":0.7853981633974483,\"plot\":{\"id\":\"7fcbb605-cad5-4d35-be26-31fdd7485dbe\",\"subtype\":\"Chart\",\"type\":\"Plot\"},\"ticker\":{\"id\":\"6d7b2c47-3d84-46eb-9669-aff1008c95d5\",\"type\":\"CategoricalTicker\"}},\"id\":\"55363f3d-d674-44cb-942f-2d8d3e844b3d\",\"type\":\"CategoricalAxis\"},{\"attributes\":{\"dimension\":1,\"plot\":{\"id\":\"b9309703-5f1a-43ea-8d17-397a50c13c79\",\"subtype\":\"Chart\",\"type\":\"Plot\"},\"ticker\":{\"id\":\"6805d3b6-fceb-4049-836e-a603aa4774ec\",\"type\":\"BasicTicker\"}},\"id\":\"ec2f8080-b779-481b-82b9-a1f3282799d9\",\"type\":\"Grid\"},{\"attributes\":{\"plot\":{\"id\":\"b9309703-5f1a-43ea-8d17-397a50c13c79\",\"subtype\":\"Chart\",\"type\":\"Plot\"}},\"id\":\"b18fad2f-4e40-4cee-834d-ff875ea4ee70\",\"type\":\"PreviewSaveTool\"},{\"attributes\":{\"overlay\":{\"id\":\"788167a0-c951-4ea8-a002-5895a7078b7c\",\"type\":\"BoxAnnotation\"},\"plot\":{\"id\":\"b9309703-5f1a-43ea-8d17-397a50c13c79\",\"subtype\":\"Chart\",\"type\":\"Plot\"}},\"id\":\"90663ec3-346a-4d0b-a25a-d7830d90e00a\",\"type\":\"BoxZoomTool\"},{\"attributes\":{\"fill_alpha\":{\"field\":\"fill_alpha\"},\"fill_color\":{\"field\":\"color\"},\"height\":{\"field\":\"height\",\"units\":\"data\"},\"line_color\":{\"field\":\"line_color\"},\"width\":{\"field\":\"width\",\"units\":\"data\"},\"x\":{\"field\":\"x\"},\"y\":{\"field\":\"y\"}},\"id\":\"b911b14c-cbc6-4ab9-bc2a-ae53d37df0c5\",\"type\":\"Rect\"},{\"attributes\":{},\"id\":\"960b8f9b-01fd-4235-befb-83476a85f9f8\",\"type\":\"ToolEvents\"},{\"attributes\":{\"plot\":{\"id\":\"7fcbb605-cad5-4d35-be26-31fdd7485dbe\",\"subtype\":\"Chart\",\"type\":\"Plot\"}},\"id\":\"77eff1b9-a7ea-4e6b-8724-4ccee9dcca36\",\"type\":\"ResetTool\"},{\"attributes\":{},\"id\":\"8be1a94a-4901-4880-8bd2-4ec5903a5fcf\",\"type\":\"CategoricalTickFormatter\"},{\"attributes\":{\"data_source\":{\"id\":\"b56a272e-6007-4c8e-b31a-9b7d4f43bf74\",\"type\":\"ColumnDataSource\"},\"glyph\":{\"id\":\"46d8dcc7-fe6d-4050-81c1-bcfc754f8565\",\"type\":\"Rect\"},\"hover_glyph\":null,\"nonselection_glyph\":null,\"selection_glyph\":null},\"id\":\"b4cbfe45-d831-4942-8237-ad2900f1d8c5\",\"type\":\"GlyphRenderer\"},{\"attributes\":{\"callback\":null,\"column_names\":[\"line_color\",\"line_alpha\",\"color\",\"fill_alpha\",\"height\",\"width\",\"y\",\"x\"],\"data\":{\"Country\":[\"Brazil\"],\"chart_index\":[{\"Country\":\"Brazil\"}],\"color\":[\"#f22c40\"],\"fill_alpha\":[0.8],\"height\":[-0.38],\"line_alpha\":[1.0],\"line_color\":[\"white\"],\"width\":[0.8],\"x\":[\"Brazil\"],\"y\":[-0.19]}},\"id\":\"b76c6630-9fb8-48ba-b895-fa18971dcbf1\",\"type\":\"ColumnDataSource\"},{\"attributes\":{\"below\":[{\"id\":\"4ae0bd5e-7e31-4e6b-83c3-535c8d451c60\",\"type\":\"CategoricalAxis\"}],\"left\":[{\"id\":\"d205e067-e13c-4522-bbef-e4ba4ebd9380\",\"type\":\"LinearAxis\"}],\"legend\":\"top_right\",\"renderers\":[{\"id\":\"29a5a7b6-deec-4599-ad38-1fdf0ed637fe\",\"type\":\"BoxAnnotation\"},{\"id\":\"f8ef7eab-2ddf-40a2-b118-8f4b88e6702e\",\"type\":\"GlyphRenderer\"},{\"id\":\"e6278677-a889-4a52-b9ce-a1b2aa6c79f9\",\"type\":\"GlyphRenderer\"},{\"id\":\"dc679c1d-0c09-4067-bf9a-d419769cd2ce\",\"type\":\"GlyphRenderer\"},{\"id\":\"7f15c874-13b7-4900-9b0d-41ce571b36b9\",\"type\":\"GlyphRenderer\"},{\"id\":\"9d7f3c00-f0dd-404e-be06-95ed8ec4a309\",\"type\":\"Legend\"},{\"id\":\"4ae0bd5e-7e31-4e6b-83c3-535c8d451c60\",\"type\":\"CategoricalAxis\"},{\"id\":\"d205e067-e13c-4522-bbef-e4ba4ebd9380\",\"type\":\"LinearAxis\"},{\"id\":\"92c269c5-2e5a-4be9-9437-c26623646b4c\",\"type\":\"Grid\"}],\"title\":\"Performance of Control of Corruption: Estimate\",\"title_text_font_size\":{\"value\":\"14pt\"},\"tool_events\":{\"id\":\"e09722dd-28be-427e-8bf2-3876b49a7b31\",\"type\":\"ToolEvents\"},\"tools\":[{\"id\":\"fb6ca4fe-09ce-4e06-8794-865f4ec666ee\",\"type\":\"PanTool\"},{\"id\":\"2fd2402e-a7e5-4f28-9cea-b29a06c5b6cd\",\"type\":\"WheelZoomTool\"},{\"id\":\"74e959c5-ae84-41ca-8583-bdb99b7cb3a4\",\"type\":\"BoxZoomTool\"},{\"id\":\"7b86f6aa-cae9-4e9f-9fa4-a4d8c9c49e30\",\"type\":\"PreviewSaveTool\"},{\"id\":\"837c1aa2-620b-439a-b846-714118959298\",\"type\":\"ResizeTool\"},{\"id\":\"50021727-0337-4acb-bb85-dbed22a1a1c3\",\"type\":\"ResetTool\"},{\"id\":\"a1907d57-ae10-433f-b64a-a5d4d1510bd6\",\"type\":\"HelpTool\"}],\"x_mapper_type\":\"auto\",\"x_range\":{\"id\":\"633ace79-ad10-4f29-885b-77f95459a279\",\"type\":\"FactorRange\"},\"xgrid\":false,\"xscale\":\"auto\",\"y_mapper_type\":\"auto\",\"y_range\":{\"id\":\"2a94684d-fd9e-421d-af79-190dedcba5e4\",\"type\":\"Range1d\"},\"yscale\":\"auto\"},\"id\":\"73c4e2ab-6ce0-4d5e-b09b-15d723080169\",\"subtype\":\"Chart\",\"type\":\"Plot\"},{\"attributes\":{\"data_source\":{\"id\":\"138ad540-413e-4b2d-be6c-ea3c72b49cdd\",\"type\":\"ColumnDataSource\"},\"glyph\":{\"id\":\"5cb6e07f-1187-4cb8-b039-eecbb4d9b096\",\"type\":\"Rect\"},\"hover_glyph\":null,\"nonselection_glyph\":null,\"selection_glyph\":null},\"id\":\"dc679c1d-0c09-4067-bf9a-d419769cd2ce\",\"type\":\"GlyphRenderer\"},{\"attributes\":{\"fill_alpha\":{\"field\":\"fill_alpha\"},\"fill_color\":{\"field\":\"color\"},\"height\":{\"field\":\"height\",\"units\":\"data\"},\"line_color\":{\"field\":\"line_color\"},\"width\":{\"field\":\"width\",\"units\":\"data\"},\"x\":{\"field\":\"x\"},\"y\":{\"field\":\"y\"}},\"id\":\"5cb6e07f-1187-4cb8-b039-eecbb4d9b096\",\"type\":\"Rect\"},{\"attributes\":{\"axis_label\":\"Sum( Value )\",\"formatter\":{\"id\":\"43ddae03-72a2-4959-ab60-edf0fb75a24a\",\"type\":\"BasicTickFormatter\"},\"plot\":{\"id\":\"b9309703-5f1a-43ea-8d17-397a50c13c79\",\"subtype\":\"Chart\",\"type\":\"Plot\"},\"ticker\":{\"id\":\"6805d3b6-fceb-4049-836e-a603aa4774ec\",\"type\":\"BasicTicker\"}},\"id\":\"c60f1812-04b1-4d6f-900c-c6e089148d88\",\"type\":\"LinearAxis\"},{\"attributes\":{\"fill_alpha\":{\"field\":\"fill_alpha\"},\"fill_color\":{\"field\":\"color\"},\"height\":{\"field\":\"height\",\"units\":\"data\"},\"line_color\":{\"field\":\"line_color\"},\"width\":{\"field\":\"width\",\"units\":\"data\"},\"x\":{\"field\":\"x\"},\"y\":{\"field\":\"y\"}},\"id\":\"a71221cc-7f9d-46ab-899c-7ec7dbc9ebd5\",\"type\":\"Rect\"},{\"attributes\":{\"callback\":null,\"column_names\":[\"line_color\",\"line_alpha\",\"color\",\"fill_alpha\",\"height\",\"width\",\"y\",\"x\"],\"data\":{\"Country\":[\"United Kingdom\"],\"chart_index\":[{\"Country\":\"United Kingdom\"}],\"color\":[\"#5ab738\"],\"fill_alpha\":[0.8],\"height\":[1.73],\"line_alpha\":[1.0],\"line_color\":[\"white\"],\"width\":[0.8],\"x\":[\"United Kingdom\"],\"y\":[0.865]}},\"id\":\"7aa26c38-4f1a-4c98-98b8-6c96e1554499\",\"type\":\"ColumnDataSource\"},{\"attributes\":{\"plot\":{\"id\":\"73c4e2ab-6ce0-4d5e-b09b-15d723080169\",\"subtype\":\"Chart\",\"type\":\"Plot\"}},\"id\":\"a1907d57-ae10-433f-b64a-a5d4d1510bd6\",\"type\":\"HelpTool\"},{\"attributes\":{\"bottom_units\":\"screen\",\"fill_alpha\":{\"value\":0.5},\"fill_color\":{\"value\":\"lightgrey\"},\"left_units\":\"screen\",\"level\":\"overlay\",\"line_alpha\":{\"value\":1.0},\"line_color\":{\"value\":\"black\"},\"line_dash\":[4,4],\"line_width\":{\"value\":2},\"plot\":null,\"render_mode\":\"css\",\"right_units\":\"screen\",\"top_units\":\"screen\"},\"id\":\"29a5a7b6-deec-4599-ad38-1fdf0ed637fe\",\"type\":\"BoxAnnotation\"},{\"attributes\":{\"plot\":{\"id\":\"7fcbb605-cad5-4d35-be26-31fdd7485dbe\",\"subtype\":\"Chart\",\"type\":\"Plot\"}},\"id\":\"16ae8127-c782-4fe2-b870-10942238f9c2\",\"type\":\"PreviewSaveTool\"},{\"attributes\":{\"plot\":{\"id\":\"73c4e2ab-6ce0-4d5e-b09b-15d723080169\",\"subtype\":\"Chart\",\"type\":\"Plot\"}},\"id\":\"50021727-0337-4acb-bb85-dbed22a1a1c3\",\"type\":\"ResetTool\"},{\"attributes\":{\"plot\":{\"id\":\"73c4e2ab-6ce0-4d5e-b09b-15d723080169\",\"subtype\":\"Chart\",\"type\":\"Plot\"}},\"id\":\"7b86f6aa-cae9-4e9f-9fa4-a4d8c9c49e30\",\"type\":\"PreviewSaveTool\"},{\"attributes\":{\"plot\":{\"id\":\"7fcbb605-cad5-4d35-be26-31fdd7485dbe\",\"subtype\":\"Chart\",\"type\":\"Plot\"}},\"id\":\"8588e3e2-a9d0-4613-8310-5fbcd6a332e1\",\"type\":\"WheelZoomTool\"},{\"attributes\":{\"callback\":null,\"column_names\":[\"line_color\",\"line_alpha\",\"color\",\"fill_alpha\",\"height\",\"width\",\"y\",\"x\"],\"data\":{\"Country\":[\"Brazil\"],\"chart_index\":[{\"Country\":\"Brazil\"}],\"color\":[\"#f22c40\"],\"fill_alpha\":[0.8],\"height\":[-0.23],\"line_alpha\":[1.0],\"line_color\":[\"white\"],\"width\":[0.8],\"x\":[\"Brazil\"],\"y\":[-0.115]}},\"id\":\"30cc2301-3cad-4832-82b7-23cdf14b2bd0\",\"type\":\"ColumnDataSource\"},{\"attributes\":{\"dimension\":1,\"plot\":{\"id\":\"73c4e2ab-6ce0-4d5e-b09b-15d723080169\",\"subtype\":\"Chart\",\"type\":\"Plot\"},\"ticker\":{\"id\":\"4f26abb1-ce22-4bc2-9ea7-35831d4f0510\",\"type\":\"BasicTicker\"}},\"id\":\"92c269c5-2e5a-4be9-9437-c26623646b4c\",\"type\":\"Grid\"},{\"attributes\":{\"bottom_units\":\"screen\",\"fill_alpha\":{\"value\":0.5},\"fill_color\":{\"value\":\"lightgrey\"},\"left_units\":\"screen\",\"level\":\"overlay\",\"line_alpha\":{\"value\":1.0},\"line_color\":{\"value\":\"black\"},\"line_dash\":[4,4],\"line_width\":{\"value\":2},\"plot\":null,\"render_mode\":\"css\",\"right_units\":\"screen\",\"top_units\":\"screen\"},\"id\":\"4f161eb0-3178-40d0-9aeb-3b0816189fcd\",\"type\":\"BoxAnnotation\"},{\"attributes\":{},\"id\":\"e09722dd-28be-427e-8bf2-3876b49a7b31\",\"type\":\"ToolEvents\"},{\"attributes\":{\"fill_alpha\":{\"field\":\"fill_alpha\"},\"fill_color\":{\"field\":\"color\"},\"height\":{\"field\":\"height\",\"units\":\"data\"},\"line_color\":{\"field\":\"line_color\"},\"width\":{\"field\":\"width\",\"units\":\"data\"},\"x\":{\"field\":\"x\"},\"y\":{\"field\":\"y\"}},\"id\":\"0f9fe075-a932-45fe-86a9-980fed66328d\",\"type\":\"Rect\"},{\"attributes\":{\"overlay\":{\"id\":\"4f161eb0-3178-40d0-9aeb-3b0816189fcd\",\"type\":\"BoxAnnotation\"},\"plot\":{\"id\":\"7fcbb605-cad5-4d35-be26-31fdd7485dbe\",\"subtype\":\"Chart\",\"type\":\"Plot\"}},\"id\":\"4bf7fcfe-4c75-4b11-8c69-340b5689db6b\",\"type\":\"BoxZoomTool\"},{\"attributes\":{\"plot\":{\"id\":\"b9309703-5f1a-43ea-8d17-397a50c13c79\",\"subtype\":\"Chart\",\"type\":\"Plot\"}},\"id\":\"956f0767-2db4-441e-9a14-6bbd85d2c248\",\"type\":\"HelpTool\"},{\"attributes\":{},\"id\":\"6395a460-ceda-4b7b-abf0-51e6b7d18ea2\",\"type\":\"BasicTickFormatter\"},{\"attributes\":{\"axis_label\":\"Country\",\"formatter\":{\"id\":\"8be1a94a-4901-4880-8bd2-4ec5903a5fcf\",\"type\":\"CategoricalTickFormatter\"},\"major_label_orientation\":0.7853981633974483,\"plot\":{\"id\":\"b9309703-5f1a-43ea-8d17-397a50c13c79\",\"subtype\":\"Chart\",\"type\":\"Plot\"},\"ticker\":{\"id\":\"d98d37c2-6656-4b1b-9470-dcda8aebda3d\",\"type\":\"CategoricalTicker\"}},\"id\":\"e0c458f4-26b3-4082-96f0-086d271fc098\",\"type\":\"CategoricalAxis\"},{\"attributes\":{\"callback\":null,\"column_names\":[\"line_color\",\"line_alpha\",\"color\",\"fill_alpha\",\"height\",\"width\",\"y\",\"x\"],\"data\":{\"Country\":[\"Venezuela, RB\"],\"chart_index\":[{\"Country\":\"Venezuela, RB\"}],\"color\":[\"#df5320\"],\"fill_alpha\":[0.8],\"height\":[-1.38],\"line_alpha\":[1.0],\"line_color\":[\"white\"],\"width\":[0.8],\"x\":[\"Venezuela, RB\"],\"y\":[-0.69]}},\"id\":\"43c87405-30e3-4714-8f2b-4258e0c58995\",\"type\":\"ColumnDataSource\"},{\"attributes\":{\"callback\":null,\"factors\":[\"Brazil\",\"United States\"]},\"id\":\"942db603-ed5b-42b9-9633-f030e60711f8\",\"type\":\"FactorRange\"},{\"attributes\":{\"data_source\":{\"id\":\"9b87b243-1119-4d2e-805c-bced901ba830\",\"type\":\"ColumnDataSource\"},\"glyph\":{\"id\":\"b01a52fd-5c57-40ac-9910-e03f35a78178\",\"type\":\"Rect\"},\"hover_glyph\":null,\"nonselection_glyph\":null,\"selection_glyph\":null},\"id\":\"9f0e0839-ffbf-422a-a63f-e527304ea487\",\"type\":\"GlyphRenderer\"},{\"attributes\":{\"fill_alpha\":{\"field\":\"fill_alpha\"},\"fill_color\":{\"field\":\"color\"},\"height\":{\"field\":\"height\",\"units\":\"data\"},\"line_color\":{\"field\":\"line_color\"},\"width\":{\"field\":\"width\",\"units\":\"data\"},\"x\":{\"field\":\"x\"},\"y\":{\"field\":\"y\"}},\"id\":\"3eda0f8b-54b7-4baa-b18a-868222d7b7bd\",\"type\":\"Rect\"},{\"attributes\":{},\"id\":\"279ba61b-9739-43ac-9f1c-000be66e5c3b\",\"type\":\"BasicTickFormatter\"},{\"attributes\":{\"below\":[{\"id\":\"e0c458f4-26b3-4082-96f0-086d271fc098\",\"type\":\"CategoricalAxis\"}],\"left\":[{\"id\":\"c60f1812-04b1-4d6f-900c-c6e089148d88\",\"type\":\"LinearAxis\"}],\"legend\":\"top_right\",\"renderers\":[{\"id\":\"788167a0-c951-4ea8-a002-5895a7078b7c\",\"type\":\"BoxAnnotation\"},{\"id\":\"464e8f34-21db-495d-94ee-1e5b7d058085\",\"type\":\"GlyphRenderer\"},{\"id\":\"c04c88c5-b0d5-443a-b4d6-2d7731bfd9b0\",\"type\":\"GlyphRenderer\"},{\"id\":\"bbef077a-abe3-40f1-8441-68b21646d69d\",\"type\":\"Legend\"},{\"id\":\"e0c458f4-26b3-4082-96f0-086d271fc098\",\"type\":\"CategoricalAxis\"},{\"id\":\"c60f1812-04b1-4d6f-900c-c6e089148d88\",\"type\":\"LinearAxis\"},{\"id\":\"ec2f8080-b779-481b-82b9-a1f3282799d9\",\"type\":\"Grid\"}],\"title\":\"Title\",\"title_text_font_size\":{\"value\":\"14pt\"},\"tool_events\":{\"id\":\"960b8f9b-01fd-4235-befb-83476a85f9f8\",\"type\":\"ToolEvents\"},\"tools\":[{\"id\":\"e86e64aa-d439-498e-b1ed-fd6b4db44762\",\"type\":\"PanTool\"},{\"id\":\"8d524065-b6dc-4100-b291-b1ae27bd68e6\",\"type\":\"WheelZoomTool\"},{\"id\":\"90663ec3-346a-4d0b-a25a-d7830d90e00a\",\"type\":\"BoxZoomTool\"},{\"id\":\"b18fad2f-4e40-4cee-834d-ff875ea4ee70\",\"type\":\"PreviewSaveTool\"},{\"id\":\"b8b879d7-42d6-4be0-91a2-85d420ffbddb\",\"type\":\"ResizeTool\"},{\"id\":\"5a1c8e39-5b20-482a-8f1b-78bd92ba09a3\",\"type\":\"ResetTool\"},{\"id\":\"956f0767-2db4-441e-9a14-6bbd85d2c248\",\"type\":\"HelpTool\"}],\"x_mapper_type\":\"auto\",\"x_range\":{\"id\":\"942db603-ed5b-42b9-9633-f030e60711f8\",\"type\":\"FactorRange\"},\"xgrid\":false,\"xscale\":\"auto\",\"y_mapper_type\":\"auto\",\"y_range\":{\"id\":\"c1817225-5c79-4d40-95de-453b97b91cc7\",\"type\":\"Range1d\"},\"yscale\":\"auto\"},\"id\":\"b9309703-5f1a-43ea-8d17-397a50c13c79\",\"subtype\":\"Chart\",\"type\":\"Plot\"},{\"attributes\":{\"plot\":{\"id\":\"b9309703-5f1a-43ea-8d17-397a50c13c79\",\"subtype\":\"Chart\",\"type\":\"Plot\"}},\"id\":\"b8b879d7-42d6-4be0-91a2-85d420ffbddb\",\"type\":\"ResizeTool\"},{\"attributes\":{\"plot\":{\"id\":\"b9309703-5f1a-43ea-8d17-397a50c13c79\",\"subtype\":\"Chart\",\"type\":\"Plot\"}},\"id\":\"5a1c8e39-5b20-482a-8f1b-78bd92ba09a3\",\"type\":\"ResetTool\"},{\"attributes\":{\"plot\":{\"id\":\"73c4e2ab-6ce0-4d5e-b09b-15d723080169\",\"subtype\":\"Chart\",\"type\":\"Plot\"}},\"id\":\"fb6ca4fe-09ce-4e06-8794-865f4ec666ee\",\"type\":\"PanTool\"},{\"attributes\":{\"data_source\":{\"id\":\"30cc2301-3cad-4832-82b7-23cdf14b2bd0\",\"type\":\"ColumnDataSource\"},\"glyph\":{\"id\":\"b911b14c-cbc6-4ab9-bc2a-ae53d37df0c5\",\"type\":\"Rect\"},\"hover_glyph\":null,\"nonselection_glyph\":null,\"selection_glyph\":null},\"id\":\"464e8f34-21db-495d-94ee-1e5b7d058085\",\"type\":\"GlyphRenderer\"},{\"attributes\":{\"callback\":null,\"factors\":[\"Brazil\",\"United Kingdom\",\"United States\",\"Venezuela, RB\"]},\"id\":\"37b41c24-6963-4ad9-9ae5-662d6e20a721\",\"type\":\"FactorRange\"},{\"attributes\":{\"callback\":null,\"column_names\":[\"line_color\",\"line_alpha\",\"color\",\"fill_alpha\",\"height\",\"width\",\"y\",\"x\"],\"data\":{\"Country\":[\"United Kingdom\"],\"chart_index\":[{\"Country\":\"United Kingdom\"}],\"color\":[\"#5ab738\"],\"fill_alpha\":[0.8],\"height\":[1.73],\"line_alpha\":[1.0],\"line_color\":[\"white\"],\"width\":[0.8],\"x\":[\"United Kingdom\"],\"y\":[0.865]}},\"id\":\"1a6e14fd-9e05-4539-b42e-0f9a1e28f689\",\"type\":\"ColumnDataSource\"},{\"attributes\":{},\"id\":\"43ddae03-72a2-4959-ab60-edf0fb75a24a\",\"type\":\"BasicTickFormatter\"},{\"attributes\":{\"data_source\":{\"id\":\"b76c6630-9fb8-48ba-b895-fa18971dcbf1\",\"type\":\"ColumnDataSource\"},\"glyph\":{\"id\":\"a71221cc-7f9d-46ab-899c-7ec7dbc9ebd5\",\"type\":\"Rect\"},\"hover_glyph\":null,\"nonselection_glyph\":null,\"selection_glyph\":null},\"id\":\"f8ef7eab-2ddf-40a2-b118-8f4b88e6702e\",\"type\":\"GlyphRenderer\"},{\"attributes\":{\"fill_alpha\":{\"field\":\"fill_alpha\"},\"fill_color\":{\"field\":\"color\"},\"height\":{\"field\":\"height\",\"units\":\"data\"},\"line_color\":{\"field\":\"line_color\"},\"width\":{\"field\":\"width\",\"units\":\"data\"},\"x\":{\"field\":\"x\"},\"y\":{\"field\":\"y\"}},\"id\":\"e51f8ff7-6fee-4052-a4a8-9aac52b4aff3\",\"type\":\"Rect\"},{\"attributes\":{\"fill_alpha\":{\"field\":\"fill_alpha\"},\"fill_color\":{\"field\":\"color\"},\"height\":{\"field\":\"height\",\"units\":\"data\"},\"line_color\":{\"field\":\"line_color\"},\"width\":{\"field\":\"width\",\"units\":\"data\"},\"x\":{\"field\":\"x\"},\"y\":{\"field\":\"y\"}},\"id\":\"46d8dcc7-fe6d-4050-81c1-bcfc754f8565\",\"type\":\"Rect\"},{\"attributes\":{\"plot\":{\"id\":\"b9309703-5f1a-43ea-8d17-397a50c13c79\",\"subtype\":\"Chart\",\"type\":\"Plot\"}},\"id\":\"8d524065-b6dc-4100-b291-b1ae27bd68e6\",\"type\":\"WheelZoomTool\"},{\"attributes\":{\"fill_alpha\":{\"field\":\"fill_alpha\"},\"fill_color\":{\"field\":\"color\"},\"height\":{\"field\":\"height\",\"units\":\"data\"},\"line_color\":{\"field\":\"line_color\"},\"width\":{\"field\":\"width\",\"units\":\"data\"},\"x\":{\"field\":\"x\"},\"y\":{\"field\":\"y\"}},\"id\":\"0491ffce-8d89-4dc3-ba0a-1095059f9d6a\",\"type\":\"Rect\"},{\"attributes\":{},\"id\":\"5887bb22-dbc1-4e1a-9035-ab39440c6d10\",\"type\":\"CategoricalTicker\"},{\"attributes\":{\"legends\":[[\"Brazil\",[{\"id\":\"9f0e0839-ffbf-422a-a63f-e527304ea487\",\"type\":\"GlyphRenderer\"}]],[\"United Kingdom\",[{\"id\":\"a05e2825-d140-41e3-bbd3-469b835eebf1\",\"type\":\"GlyphRenderer\"}]],[\"United States\",[{\"id\":\"b4cbfe45-d831-4942-8237-ad2900f1d8c5\",\"type\":\"GlyphRenderer\"}]],[\"Venezuela, RB\",[{\"id\":\"056f171d-7886-4c0b-828a-183bae969ee1\",\"type\":\"GlyphRenderer\"}]]],\"plot\":{\"id\":\"7fcbb605-cad5-4d35-be26-31fdd7485dbe\",\"subtype\":\"Chart\",\"type\":\"Plot\"}},\"id\":\"1ffc184f-8a2f-4be8-9bc7-9c0e6ed53ef2\",\"type\":\"Legend\"},{\"attributes\":{\"data_source\":{\"id\":\"e400fdbf-e08a-4eee-bdfe-3c801c0f03c9\",\"type\":\"ColumnDataSource\"},\"glyph\":{\"id\":\"e51f8ff7-6fee-4052-a4a8-9aac52b4aff3\",\"type\":\"Rect\"},\"hover_glyph\":null,\"nonselection_glyph\":null,\"selection_glyph\":null},\"id\":\"c04c88c5-b0d5-443a-b4d6-2d7731bfd9b0\",\"type\":\"GlyphRenderer\"},{\"attributes\":{\"callback\":null,\"factors\":[\"Brazil\",\"United Kingdom\",\"United States\",\"Venezuela, RB\"]},\"id\":\"633ace79-ad10-4f29-885b-77f95459a279\",\"type\":\"FactorRange\"},{\"attributes\":{},\"id\":\"6805d3b6-fceb-4049-836e-a603aa4774ec\",\"type\":\"BasicTicker\"},{\"attributes\":{\"callback\":null,\"column_names\":[\"line_color\",\"line_alpha\",\"color\",\"fill_alpha\",\"height\",\"width\",\"y\",\"x\"],\"data\":{\"Country\":[\"United States\"],\"chart_index\":[{\"Country\":\"United States\"}],\"color\":[\"#407ee7\"],\"fill_alpha\":[0.8],\"height\":[1.32],\"line_alpha\":[1.0],\"line_color\":[\"white\"],\"width\":[0.8],\"x\":[\"United States\"],\"y\":[0.66]}},\"id\":\"b56a272e-6007-4c8e-b31a-9b7d4f43bf74\",\"type\":\"ColumnDataSource\"},{\"attributes\":{\"data_source\":{\"id\":\"43c87405-30e3-4714-8f2b-4258e0c58995\",\"type\":\"ColumnDataSource\"},\"glyph\":{\"id\":\"0f9fe075-a932-45fe-86a9-980fed66328d\",\"type\":\"Rect\"},\"hover_glyph\":null,\"nonselection_glyph\":null,\"selection_glyph\":null},\"id\":\"056f171d-7886-4c0b-828a-183bae969ee1\",\"type\":\"GlyphRenderer\"},{\"attributes\":{},\"id\":\"dca8b6b6-c7c0-4a49-bd71-182f7f8be4cc\",\"type\":\"ToolEvents\"},{\"attributes\":{\"axis_label\":\"Country\",\"formatter\":{\"id\":\"3505b6e4-586e-4e74-a3b1-9fe5614486ab\",\"type\":\"CategoricalTickFormatter\"},\"major_label_orientation\":0.7853981633974483,\"plot\":{\"id\":\"73c4e2ab-6ce0-4d5e-b09b-15d723080169\",\"subtype\":\"Chart\",\"type\":\"Plot\"},\"ticker\":{\"id\":\"5887bb22-dbc1-4e1a-9035-ab39440c6d10\",\"type\":\"CategoricalTicker\"}},\"id\":\"4ae0bd5e-7e31-4e6b-83c3-535c8d451c60\",\"type\":\"CategoricalAxis\"},{\"attributes\":{\"callback\":null,\"column_names\":[\"line_color\",\"line_alpha\",\"color\",\"fill_alpha\",\"height\",\"width\",\"y\",\"x\"],\"data\":{\"Country\":[\"United States\"],\"chart_index\":[{\"Country\":\"United States\"}],\"color\":[\"#5ab738\"],\"fill_alpha\":[0.8],\"height\":[1.4700000000000002],\"line_alpha\":[1.0],\"line_color\":[\"white\"],\"width\":[0.8],\"x\":[\"United States\"],\"y\":[0.7350000000000001]}},\"id\":\"e400fdbf-e08a-4eee-bdfe-3c801c0f03c9\",\"type\":\"ColumnDataSource\"},{\"attributes\":{},\"id\":\"9e26ed66-fa73-4615-b543-3339166de448\",\"type\":\"CategoricalTickFormatter\"},{\"attributes\":{\"callback\":null,\"end\":1.7475,\"start\":-1.3975},\"id\":\"2a94684d-fd9e-421d-af79-190dedcba5e4\",\"type\":\"Range1d\"},{\"attributes\":{\"callback\":null,\"end\":1.7475,\"start\":-1.3975},\"id\":\"c9946bc8-bf08-4be8-803e-582b049f7523\",\"type\":\"Range1d\"},{\"attributes\":{\"callback\":null,\"column_names\":[\"line_color\",\"line_alpha\",\"color\",\"fill_alpha\",\"height\",\"width\",\"y\",\"x\"],\"data\":{\"Country\":[\"Venezuela, RB\"],\"chart_index\":[{\"Country\":\"Venezuela, RB\"}],\"color\":[\"#df5320\"],\"fill_alpha\":[0.8],\"height\":[-1.38],\"line_alpha\":[1.0],\"line_color\":[\"white\"],\"width\":[0.8],\"x\":[\"Venezuela, RB\"],\"y\":[-0.69]}},\"id\":\"e5bc98e5-0949-4b6d-81d3-ed99e25d29ff\",\"type\":\"ColumnDataSource\"},{\"attributes\":{\"plot\":{\"id\":\"b9309703-5f1a-43ea-8d17-397a50c13c79\",\"subtype\":\"Chart\",\"type\":\"Plot\"}},\"id\":\"e86e64aa-d439-498e-b1ed-fd6b4db44762\",\"type\":\"PanTool\"},{\"attributes\":{\"axis_label\":\"Control of Corruption: Estimate\",\"formatter\":{\"id\":\"6395a460-ceda-4b7b-abf0-51e6b7d18ea2\",\"type\":\"BasicTickFormatter\"},\"plot\":{\"id\":\"73c4e2ab-6ce0-4d5e-b09b-15d723080169\",\"subtype\":\"Chart\",\"type\":\"Plot\"},\"ticker\":{\"id\":\"4f26abb1-ce22-4bc2-9ea7-35831d4f0510\",\"type\":\"BasicTicker\"}},\"id\":\"d205e067-e13c-4522-bbef-e4ba4ebd9380\",\"type\":\"LinearAxis\"},{\"attributes\":{},\"id\":\"4f26abb1-ce22-4bc2-9ea7-35831d4f0510\",\"type\":\"BasicTicker\"},{\"attributes\":{\"dimension\":1,\"plot\":{\"id\":\"7fcbb605-cad5-4d35-be26-31fdd7485dbe\",\"subtype\":\"Chart\",\"type\":\"Plot\"},\"ticker\":{\"id\":\"e5fb85e0-7f05-454e-8461-e3b45652027a\",\"type\":\"BasicTicker\"}},\"id\":\"9904770a-41b3-4f09-bf1f-000b8a897453\",\"type\":\"Grid\"},{\"attributes\":{\"bottom_units\":\"screen\",\"fill_alpha\":{\"value\":0.5},\"fill_color\":{\"value\":\"lightgrey\"},\"left_units\":\"screen\",\"level\":\"overlay\",\"line_alpha\":{\"value\":1.0},\"line_color\":{\"value\":\"black\"},\"line_dash\":[4,4],\"line_width\":{\"value\":2},\"plot\":null,\"render_mode\":\"css\",\"right_units\":\"screen\",\"top_units\":\"screen\"},\"id\":\"788167a0-c951-4ea8-a002-5895a7078b7c\",\"type\":\"BoxAnnotation\"},{\"attributes\":{\"legends\":[[\"Brazil\",[{\"id\":\"f8ef7eab-2ddf-40a2-b118-8f4b88e6702e\",\"type\":\"GlyphRenderer\"}]],[\"United Kingdom\",[{\"id\":\"e6278677-a889-4a52-b9ce-a1b2aa6c79f9\",\"type\":\"GlyphRenderer\"}]],[\"United States\",[{\"id\":\"dc679c1d-0c09-4067-bf9a-d419769cd2ce\",\"type\":\"GlyphRenderer\"}]],[\"Venezuela, RB\",[{\"id\":\"7f15c874-13b7-4900-9b0d-41ce571b36b9\",\"type\":\"GlyphRenderer\"}]]],\"plot\":{\"id\":\"73c4e2ab-6ce0-4d5e-b09b-15d723080169\",\"subtype\":\"Chart\",\"type\":\"Plot\"}},\"id\":\"9d7f3c00-f0dd-404e-be06-95ed8ec4a309\",\"type\":\"Legend\"},{\"attributes\":{},\"id\":\"d98d37c2-6656-4b1b-9470-dcda8aebda3d\",\"type\":\"CategoricalTicker\"},{\"attributes\":{\"plot\":{\"id\":\"73c4e2ab-6ce0-4d5e-b09b-15d723080169\",\"subtype\":\"Chart\",\"type\":\"Plot\"}},\"id\":\"2fd2402e-a7e5-4f28-9cea-b29a06c5b6cd\",\"type\":\"WheelZoomTool\"},{\"attributes\":{\"callback\":null,\"end\":1.5320000000000003,\"start\":-0.29200000000000004},\"id\":\"c1817225-5c79-4d40-95de-453b97b91cc7\",\"type\":\"Range1d\"},{\"attributes\":{\"fill_alpha\":{\"field\":\"fill_alpha\"},\"fill_color\":{\"field\":\"color\"},\"height\":{\"field\":\"height\",\"units\":\"data\"},\"line_color\":{\"field\":\"line_color\"},\"width\":{\"field\":\"width\",\"units\":\"data\"},\"x\":{\"field\":\"x\"},\"y\":{\"field\":\"y\"}},\"id\":\"e68965fa-528c-49ef-8249-1a569e74bdfb\",\"type\":\"Rect\"},{\"attributes\":{\"below\":[{\"id\":\"55363f3d-d674-44cb-942f-2d8d3e844b3d\",\"type\":\"CategoricalAxis\"}],\"left\":[{\"id\":\"0166bec5-5ef3-4549-b1ce-62e7254f33d3\",\"type\":\"LinearAxis\"}],\"legend\":\"top_right\",\"renderers\":[{\"id\":\"4f161eb0-3178-40d0-9aeb-3b0816189fcd\",\"type\":\"BoxAnnotation\"},{\"id\":\"9f0e0839-ffbf-422a-a63f-e527304ea487\",\"type\":\"GlyphRenderer\"},{\"id\":\"a05e2825-d140-41e3-bbd3-469b835eebf1\",\"type\":\"GlyphRenderer\"},{\"id\":\"b4cbfe45-d831-4942-8237-ad2900f1d8c5\",\"type\":\"GlyphRenderer\"},{\"id\":\"056f171d-7886-4c0b-828a-183bae969ee1\",\"type\":\"GlyphRenderer\"},{\"id\":\"1ffc184f-8a2f-4be8-9bc7-9c0e6ed53ef2\",\"type\":\"Legend\"},{\"id\":\"55363f3d-d674-44cb-942f-2d8d3e844b3d\",\"type\":\"CategoricalAxis\"},{\"id\":\"0166bec5-5ef3-4549-b1ce-62e7254f33d3\",\"type\":\"LinearAxis\"},{\"id\":\"9904770a-41b3-4f09-bf1f-000b8a897453\",\"type\":\"Grid\"}],\"title\":\"Performance of Control of Corruption: Estimate\",\"title_text_font_size\":{\"value\":\"14pt\"},\"tool_events\":{\"id\":\"dca8b6b6-c7c0-4a49-bd71-182f7f8be4cc\",\"type\":\"ToolEvents\"},\"tools\":[{\"id\":\"73f2476b-ad4b-4fd3-b19e-7645bb2dbe00\",\"type\":\"PanTool\"},{\"id\":\"8588e3e2-a9d0-4613-8310-5fbcd6a332e1\",\"type\":\"WheelZoomTool\"},{\"id\":\"4bf7fcfe-4c75-4b11-8c69-340b5689db6b\",\"type\":\"BoxZoomTool\"},{\"id\":\"16ae8127-c782-4fe2-b870-10942238f9c2\",\"type\":\"PreviewSaveTool\"},{\"id\":\"59a3cb6b-de0e-4269-b356-558afd024312\",\"type\":\"ResizeTool\"},{\"id\":\"77eff1b9-a7ea-4e6b-8724-4ccee9dcca36\",\"type\":\"ResetTool\"},{\"id\":\"41e7dd78-d51f-49fe-bce9-6f7ef22666d4\",\"type\":\"HelpTool\"}],\"x_mapper_type\":\"auto\",\"x_range\":{\"id\":\"37b41c24-6963-4ad9-9ae5-662d6e20a721\",\"type\":\"FactorRange\"},\"xgrid\":false,\"xscale\":\"auto\",\"y_mapper_type\":\"auto\",\"y_range\":{\"id\":\"c9946bc8-bf08-4be8-803e-582b049f7523\",\"type\":\"Range1d\"},\"yscale\":\"auto\"},\"id\":\"7fcbb605-cad5-4d35-be26-31fdd7485dbe\",\"subtype\":\"Chart\",\"type\":\"Plot\"},{\"attributes\":{},\"id\":\"6d7b2c47-3d84-46eb-9669-aff1008c95d5\",\"type\":\"CategoricalTicker\"},{\"attributes\":{\"plot\":{\"id\":\"7fcbb605-cad5-4d35-be26-31fdd7485dbe\",\"subtype\":\"Chart\",\"type\":\"Plot\"}},\"id\":\"59a3cb6b-de0e-4269-b356-558afd024312\",\"type\":\"ResizeTool\"},{\"attributes\":{\"callback\":null,\"column_names\":[\"line_color\",\"line_alpha\",\"color\",\"fill_alpha\",\"height\",\"width\",\"y\",\"x\"],\"data\":{\"Country\":[\"United States\"],\"chart_index\":[{\"Country\":\"United States\"}],\"color\":[\"#407ee7\"],\"fill_alpha\":[0.8],\"height\":[1.32],\"line_alpha\":[1.0],\"line_color\":[\"white\"],\"width\":[0.8],\"x\":[\"United States\"],\"y\":[0.66]}},\"id\":\"138ad540-413e-4b2d-be6c-ea3c72b49cdd\",\"type\":\"ColumnDataSource\"},{\"attributes\":{},\"id\":\"3505b6e4-586e-4e74-a3b1-9fe5614486ab\",\"type\":\"CategoricalTickFormatter\"},{\"attributes\":{\"callback\":null,\"column_names\":[\"line_color\",\"line_alpha\",\"color\",\"fill_alpha\",\"height\",\"width\",\"y\",\"x\"],\"data\":{\"Country\":[\"Brazil\"],\"chart_index\":[{\"Country\":\"Brazil\"}],\"color\":[\"#f22c40\"],\"fill_alpha\":[0.8],\"height\":[-0.38],\"line_alpha\":[1.0],\"line_color\":[\"white\"],\"width\":[0.8],\"x\":[\"Brazil\"],\"y\":[-0.19]}},\"id\":\"9b87b243-1119-4d2e-805c-bced901ba830\",\"type\":\"ColumnDataSource\"}],\"root_ids\":[\"7fcbb605-cad5-4d35-be26-31fdd7485dbe\",\"73c4e2ab-6ce0-4d5e-b09b-15d723080169\",\"b9309703-5f1a-43ea-8d17-397a50c13c79\"]},\"title\":\"Bokeh Application\",\"version\":\"0.11.1\"}};\n",
       "            var render_items = [{\"docid\":\"1fbcdb3a-fffa-46f8-8c1b-4447cb030ed2\",\"elementid\":\"e8f4096e-5b0a-4dc9-b503-816c1c620797\",\"modelid\":\"b9309703-5f1a-43ea-8d17-397a50c13c79\",\"notebook_comms_target\":\"6810e49a-21d0-473e-8a2a-054f6a15d4d8\"}];\n",
       "            \n",
       "            Bokeh.embed.embed_items(docs_json, render_items);\n",
       "        });\n",
       "      },\n",
       "      function(Bokeh) {\n",
       "      }\n",
       "    ];\n",
       "  \n",
       "    function run_inline_js() {\n",
       "      for (var i = 0; i < inline_js.length; i++) {\n",
       "        inline_js[i](window.Bokeh);\n",
       "      }\n",
       "    }\n",
       "  \n",
       "    if (window._bokeh_is_loading === 0) {\n",
       "      console.log(\"Bokeh: BokehJS loaded, going straight to plotting\");\n",
       "      run_inline_js();\n",
       "    } else {\n",
       "      load_libs(js_urls, function() {\n",
       "        console.log(\"Bokeh: BokehJS plotting callback run at\", now());\n",
       "        run_inline_js();\n",
       "      });\n",
       "    }\n",
       "  }(this));\n",
       "</script>"
      ]
     },
     "metadata": {},
     "output_type": "display_data"
    },
    {
     "data": {
      "text/html": [
       "<p><code>&lt;Bokeh Notebook handle for <strong>In[22]</strong>&gt;</code></p>"
      ],
      "text/plain": [
       "<bokeh.io._CommsHandle at 0x7f50f3794990>"
      ]
     },
     "execution_count": 22,
     "metadata": {},
     "output_type": "execute_result"
    }
   ],
   "source": [
    "plotscore = plot_score(score)\n",
    "show(plotscore)"
   ]
  },
  {
   "cell_type": "code",
   "execution_count": null,
   "metadata": {
    "collapsed": true
   },
   "outputs": [],
   "source": []
  },
  {
   "cell_type": "code",
   "execution_count": null,
   "metadata": {
    "collapsed": true
   },
   "outputs": [],
   "source": []
  },
  {
   "cell_type": "code",
   "execution_count": null,
   "metadata": {
    "collapsed": true
   },
   "outputs": [],
   "source": []
  },
  {
   "cell_type": "code",
   "execution_count": null,
   "metadata": {
    "collapsed": true
   },
   "outputs": [],
   "source": []
  },
  {
   "cell_type": "code",
   "execution_count": null,
   "metadata": {
    "collapsed": true
   },
   "outputs": [],
   "source": []
  },
  {
   "cell_type": "code",
   "execution_count": null,
   "metadata": {
    "collapsed": true
   },
   "outputs": [],
   "source": []
  },
  {
   "cell_type": "code",
   "execution_count": null,
   "metadata": {
    "collapsed": true
   },
   "outputs": [],
   "source": []
  }
 ],
 "metadata": {
  "kernelspec": {
   "display_name": "Python 2",
   "language": "python",
   "name": "python2"
  },
  "language_info": {
   "codemirror_mode": {
    "name": "ipython",
    "version": 2
   },
   "file_extension": ".py",
   "mimetype": "text/x-python",
   "name": "python",
   "nbconvert_exporter": "python",
   "pygments_lexer": "ipython2",
   "version": "2.7.11"
  }
 },
 "nbformat": 4,
 "nbformat_minor": 0
}
